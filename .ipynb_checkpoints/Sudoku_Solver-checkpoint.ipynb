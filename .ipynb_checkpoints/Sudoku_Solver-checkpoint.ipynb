{
 "cells": [
  {
   "cell_type": "code",
   "execution_count": 1,
   "metadata": {
    "collapsed": false
   },
   "outputs": [
    {
     "data": {
      "text/plain": [
       "81"
      ]
     },
     "execution_count": 1,
     "metadata": {},
     "output_type": "execute_result"
    }
   ],
   "source": [
    "puzzle = '..3.2.6..9..3.5..1..18.64....81.29..7.......8..67.82....26.95..8..2.3..9..5.1.3..'\n",
    "len(puzzle)"
   ]
  },
  {
   "cell_type": "code",
   "execution_count": 2,
   "metadata": {
    "collapsed": false
   },
   "outputs": [],
   "source": [
    "rows = 'ABCDEFGHI'\n",
    "cols = '123456789'\n",
    "assert len(rows) == len(cols)"
   ]
  },
  {
   "cell_type": "code",
   "execution_count": 3,
   "metadata": {
    "collapsed": false
   },
   "outputs": [
    {
     "data": {
      "text/plain": [
       "['ad', 'ae', 'af', 'bd', 'be', 'bf', 'cd', 'ce', 'cf']"
      ]
     },
     "execution_count": 3,
     "metadata": {},
     "output_type": "execute_result"
    }
   ],
   "source": [
    "def cross(a, b):\n",
    "    return [s+t for s in a for t in b]\n",
    "cross('abc', 'def')"
   ]
  },
  {
   "cell_type": "markdown",
   "metadata": {},
   "source": [
    "### All Rows and Columns\n",
    "Getting all rows and columns using cross(a, b)"
   ]
  },
  {
   "cell_type": "code",
   "execution_count": 4,
   "metadata": {
    "collapsed": false
   },
   "outputs": [
    {
     "data": {
      "text/plain": [
       "['A1',\n",
       " 'A2',\n",
       " 'A3',\n",
       " 'A4',\n",
       " 'A5',\n",
       " 'A6',\n",
       " 'A7',\n",
       " 'A8',\n",
       " 'A9',\n",
       " 'B1',\n",
       " 'B2',\n",
       " 'B3',\n",
       " 'B4',\n",
       " 'B5',\n",
       " 'B6',\n",
       " 'B7',\n",
       " 'B8',\n",
       " 'B9',\n",
       " 'C1',\n",
       " 'C2',\n",
       " 'C3',\n",
       " 'C4',\n",
       " 'C5',\n",
       " 'C6',\n",
       " 'C7',\n",
       " 'C8',\n",
       " 'C9',\n",
       " 'D1',\n",
       " 'D2',\n",
       " 'D3',\n",
       " 'D4',\n",
       " 'D5',\n",
       " 'D6',\n",
       " 'D7',\n",
       " 'D8',\n",
       " 'D9',\n",
       " 'E1',\n",
       " 'E2',\n",
       " 'E3',\n",
       " 'E4',\n",
       " 'E5',\n",
       " 'E6',\n",
       " 'E7',\n",
       " 'E8',\n",
       " 'E9',\n",
       " 'F1',\n",
       " 'F2',\n",
       " 'F3',\n",
       " 'F4',\n",
       " 'F5',\n",
       " 'F6',\n",
       " 'F7',\n",
       " 'F8',\n",
       " 'F9',\n",
       " 'G1',\n",
       " 'G2',\n",
       " 'G3',\n",
       " 'G4',\n",
       " 'G5',\n",
       " 'G6',\n",
       " 'G7',\n",
       " 'G8',\n",
       " 'G9',\n",
       " 'H1',\n",
       " 'H2',\n",
       " 'H3',\n",
       " 'H4',\n",
       " 'H5',\n",
       " 'H6',\n",
       " 'H7',\n",
       " 'H8',\n",
       " 'H9',\n",
       " 'I1',\n",
       " 'I2',\n",
       " 'I3',\n",
       " 'I4',\n",
       " 'I5',\n",
       " 'I6',\n",
       " 'I7',\n",
       " 'I8',\n",
       " 'I9']"
      ]
     },
     "execution_count": 4,
     "metadata": {},
     "output_type": "execute_result"
    }
   ],
   "source": [
    "boxes = cross(rows, cols)\n",
    "assert len(boxes)==81\n",
    "boxes"
   ]
  },
  {
   "cell_type": "markdown",
   "metadata": {},
   "source": [
    "Units"
   ]
  },
  {
   "cell_type": "code",
   "execution_count": 5,
   "metadata": {
    "collapsed": false
   },
   "outputs": [],
   "source": [
    "row_units = [cross(r, cols) for r in rows]\n",
    "assert len(row_units) == 9\n",
    "#row_units"
   ]
  },
  {
   "cell_type": "code",
   "execution_count": 6,
   "metadata": {
    "collapsed": false
   },
   "outputs": [],
   "source": [
    "col_units = [cross(rows, c) for c in cols]\n",
    "assert len(row_units) == 9\n",
    "#col_units"
   ]
  },
  {
   "cell_type": "code",
   "execution_count": 7,
   "metadata": {
    "collapsed": false
   },
   "outputs": [],
   "source": [
    "square_units = [cross(row, col) for row in ['ABC', 'DEF', 'GHI'] for col in ['123', '456', '789']]\n",
    "assert len(square_units) == 9\n",
    "#square_units"
   ]
  },
  {
   "cell_type": "code",
   "execution_count": 8,
   "metadata": {
    "collapsed": false
   },
   "outputs": [],
   "source": [
    "unit_list = row_units+col_units+square_units\n",
    "assert len(unit_list) == 27\n",
    "#unit_list[:10]"
   ]
  },
  {
   "cell_type": "markdown",
   "metadata": {},
   "source": [
    "### Units\n",
    "A dict where each key is a box and value is a list of all rows, cols, and 3x3 square that intersect that box."
   ]
  },
  {
   "cell_type": "code",
   "execution_count": 9,
   "metadata": {
    "collapsed": false
   },
   "outputs": [
    {
     "data": {
      "text/plain": [
       "['D1', 'D2', 'D3', 'D4', 'D5', 'D6', 'D7', 'D8', 'D9']"
      ]
     },
     "execution_count": 9,
     "metadata": {},
     "output_type": "execute_result"
    }
   ],
   "source": [
    "units = dict((i, [s for s in unit_list if i in s]) for i in boxes)\n",
    "assert len(units) == 81\n",
    "units['D1'][0]"
   ]
  },
  {
   "cell_type": "markdown",
   "metadata": {},
   "source": [
    "### Peers\n",
    "A dict where each key is a box and value is a list of all rows, cols, nd 3x3 square that interest that box without containing that box."
   ]
  },
  {
   "cell_type": "code",
   "execution_count": 10,
   "metadata": {
    "collapsed": true
   },
   "outputs": [],
   "source": [
    "peers = dict((i, set(sum(units[i], []))-set([i])) for i in boxes)\n",
    "#peers['D1']"
   ]
  },
  {
   "cell_type": "markdown",
   "metadata": {},
   "source": [
    "### Collect all values\n",
    "Modify grid values such that:\n",
    "key : Grid index (boxes)\n",
    "value: All possible values for the box"
   ]
  },
  {
   "cell_type": "code",
   "execution_count": 11,
   "metadata": {
    "collapsed": false
   },
   "outputs": [
    {
     "data": {
      "text/plain": [
       "'123456789'"
      ]
     },
     "execution_count": 11,
     "metadata": {},
     "output_type": "execute_result"
    }
   ],
   "source": [
    "def grid_values(puzzle):\n",
    "    grid_dict = {}\n",
    "    digits = '123456789'\n",
    "    for i in range(len(puzzle)):\n",
    "        if puzzle[i] == '.':\n",
    "            grid_dict[boxes[i]] = digits\n",
    "        else:\n",
    "            grid_dict[boxes[i]] = puzzle[i]\n",
    "    return grid_dict\n",
    "grid = grid_values(puzzle)\n",
    "grid['A1']"
   ]
  },
  {
   "cell_type": "code",
   "execution_count": 12,
   "metadata": {
    "collapsed": false
   },
   "outputs": [
    {
     "name": "stdout",
     "output_type": "stream",
     "text": [
      "123456789 123456789 3 | 123456789 2 123456789 | 6 123456789 123456789 \n",
      "9 123456789 123456789 | 3 123456789 5 | 123456789 123456789 1 \n",
      "123456789 123456789 1 | 8 123456789 6 | 4 123456789 123456789 \n",
      "------+-------+------\n",
      "123456789 123456789 8 | 1 123456789 2 | 9 123456789 123456789 \n",
      "7 123456789 123456789 | 123456789 123456789 123456789 | 123456789 123456789 8 \n",
      "123456789 123456789 6 | 7 123456789 8 | 2 123456789 123456789 \n",
      "------+-------+------\n",
      "123456789 123456789 2 | 6 123456789 9 | 5 123456789 123456789 \n",
      "8 123456789 123456789 | 2 123456789 3 | 123456789 123456789 9 \n",
      "123456789 123456789 5 | 123456789 1 123456789 | 3 123456789 123456789 \n"
     ]
    }
   ],
   "source": [
    "def print_grid(grid):\n",
    "    for i, v in grid.items():\n",
    "        print(v + ' ', end='')\n",
    "        if int(i[-1]) % 3 == 0 and int(i[-1]) != 9:\n",
    "            print('| ', end='')\n",
    "        if int(i[-1]) % 9 ==0:\n",
    "            print()\n",
    "        if i[0] in 'CF' and int(i[-1]) % 9 ==0:\n",
    "            print('-'*6 + '+' + '-'*7 + '+' + '-'*6)\n",
    "print_grid(grid)"
   ]
  },
  {
   "cell_type": "markdown",
   "metadata": {},
   "source": [
    "### Elimination\n",
    "This method selects a box and removes it's value from all of it's peers. This method can be rerun N times to solve* the sudoku."
   ]
  },
  {
   "cell_type": "code",
   "execution_count": 13,
   "metadata": {
    "collapsed": false
   },
   "outputs": [],
   "source": [
    "def eliminate(values):\n",
    "    given_values = [k for k, v in values.items() if len(v) == 1]\n",
    "    for i in given_values:\n",
    "        digit = values[i]\n",
    "        for j in peers[i]:\n",
    "            values[j] = values[j].replace(digit, '')\n",
    "    return values\n",
    "        \n",
    "#ele = eliminate(grid_values)\n",
    "#print_grid(ele)"
   ]
  },
  {
   "cell_type": "code",
   "execution_count": 14,
   "metadata": {
    "collapsed": false
   },
   "outputs": [],
   "source": [
    "def only_choice(values):\n",
    "    for i in unit_list:\n",
    "        for d in '123456789':\n",
    "            num = [j for j in i if d in values[j]]\n",
    "            if len(num) == 1:\n",
    "                values[num[0]] = d\n",
    "    return values\n",
    "#only = only_choice(ele)\n",
    "#print_grid(only)"
   ]
  },
  {
   "cell_type": "markdown",
   "metadata": {},
   "source": [
    "### Testing\n",
    "Elimination and only_choice together can solve the sudoku, let's test them out"
   ]
  },
  {
   "cell_type": "code",
   "execution_count": 15,
   "metadata": {
    "collapsed": false
   },
   "outputs": [
    {
     "name": "stdout",
     "output_type": "stream",
     "text": [
      "4 8 3 | 9 2 1 | 6 5 7 \n",
      "9 6 7 | 3 4 5 | 8 2 1 \n",
      "2 5 1 | 8 7 6 | 4 9 3 \n",
      "------+-------+------\n",
      "5 4 8 | 1 3 2 | 9 7 6 \n",
      "7 2 9 | 5 6 4 | 1 3 8 \n",
      "1 3 6 | 7 9 8 | 2 4 5 \n",
      "------+-------+------\n",
      "3 7 2 | 6 8 9 | 5 1 4 \n",
      "8 1 4 | 2 5 3 | 7 6 9 \n",
      "6 9 5 | 4 1 7 | 3 8 2 \n"
     ]
    }
   ],
   "source": [
    "def solve_sudoku(values):\n",
    "    locked = False\n",
    "    while not locked:\n",
    "        amount_solved = len([i for i in boxes if len(values[i]) == 1])\n",
    "        # Apply elimination\n",
    "        values = eliminate(values)\n",
    "        # Apply only_choice\n",
    "        values = only_choice(values)\n",
    "        amount_left = len([i for i in boxes if len(values[i]) == 1])\n",
    "        locked = amount_solved == amount_left\n",
    "\n",
    "    return values\n",
    "solved_sudoku = solve_sudoku(grid)\n",
    "print_grid(solved_sudoku)"
   ]
  }
 ],
 "metadata": {
  "kernelspec": {
   "display_name": "Python 3",
   "language": "python",
   "name": "python3"
  },
  "language_info": {
   "codemirror_mode": {
    "name": "ipython",
    "version": 3
   },
   "file_extension": ".py",
   "mimetype": "text/x-python",
   "name": "python",
   "nbconvert_exporter": "python",
   "pygments_lexer": "ipython3",
   "version": "3.6.0"
  }
 },
 "nbformat": 4,
 "nbformat_minor": 2
}
