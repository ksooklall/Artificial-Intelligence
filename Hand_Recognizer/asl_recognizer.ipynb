{
 "cells": [
  {
   "cell_type": "markdown",
   "metadata": {
    "collapsed": true,
    "deletable": true,
    "editable": true
   },
   "source": [
    "# Artificial Intelligence Engineer Nanodegree - Probabilistic Models\n",
    "## Project: Sign Language Recognition System\n",
    "- [Introduction](#intro)\n",
    "- [Part 1 Feature Selection](#part1_tutorial)\n",
    "    - [Tutorial](#part1_tutorial)\n",
    "    - [Features Submission](#part1_submission)\n",
    "    - [Features Unittest](#part1_test)\n",
    "- [Part 2 Train the models](#part2_tutorial)\n",
    "    - [Tutorial](#part2_tutorial)\n",
    "    - [Model Selection Score Submission](#part2_submission)\n",
    "    - [Model Score Unittest](#part2_test)\n",
    "- [Part 3 Build a Recognizer](#part3_tutorial)\n",
    "    - [Tutorial](#part3_tutorial)\n",
    "    - [Recognizer Submission](#part3_submission)\n",
    "    - [Recognizer Unittest](#part3_test)\n",
    "- [Part 4 (OPTIONAL) Improve the WER with Language Models](#part4_info)"
   ]
  },
  {
   "cell_type": "markdown",
   "metadata": {
    "deletable": true,
    "editable": true
   },
   "source": [
    "<a id='intro'></a>\n",
    "## Introduction\n",
    "The overall goal of this project is to build a word recognizer for American Sign Language video sequences, demonstrating the power of probabalistic models.  In particular, this project employs  [hidden Markov models (HMM's)](https://en.wikipedia.org/wiki/Hidden_Markov_model) to analyze a series of measurements taken from videos of American Sign Language (ASL) collected for research (see the [RWTH-BOSTON-104 Database](http://www-i6.informatik.rwth-aachen.de/~dreuw/database-rwth-boston-104.php)).  In this video, the right-hand x and y locations are plotted as the speaker signs the sentence.\n",
    "[![ASLR demo](http://www-i6.informatik.rwth-aachen.de/~dreuw/images/demosample.png)](https://drive.google.com/open?id=0B_5qGuFe-wbhUXRuVnNZVnMtam8)\n",
    "\n",
    "The raw data, train, and test sets are pre-defined.  You will derive a variety of feature sets (explored in Part 1), as well as implement three different model selection criterion to determine the optimal number of hidden states for each word model (explored in Part 2). Finally, in Part 3 you will implement the recognizer and compare the effects the different combinations of feature sets and model selection criteria.  \n",
    "\n",
    "At the end of each Part, complete the submission cells with implementations, answer all questions, and pass the unit tests.  Then submit the completed notebook for review!"
   ]
  },
  {
   "cell_type": "markdown",
   "metadata": {
    "deletable": true,
    "editable": true
   },
   "source": [
    "<a id='part1_tutorial'></a>\n",
    "## PART 1: Data\n",
    "\n",
    "### Features Tutorial\n",
    "##### Load the initial database\n",
    "A data handler designed for this database is provided in the student codebase as the `AslDb` class in the `asl_data` module.  This handler creates the initial [pandas](http://pandas.pydata.org/pandas-docs/stable/) dataframe from the corpus of data included in the `data` directory as well as dictionaries suitable for extracting data in a format friendly to the [hmmlearn](https://hmmlearn.readthedocs.io/en/latest/) library.  We'll use those to create models in Part 2.\n",
    "\n",
    "To start, let's set up the initial database and select an example set of features for the training set.  At the end of Part 1, you will create additional feature sets for experimentation. "
   ]
  },
  {
   "cell_type": "code",
   "execution_count": 1,
   "metadata": {
    "collapsed": false,
    "deletable": true,
    "editable": true
   },
   "outputs": [
    {
     "data": {
      "text/html": [
       "<div>\n",
       "<table border=\"1\" class=\"dataframe\">\n",
       "  <thead>\n",
       "    <tr style=\"text-align: right;\">\n",
       "      <th></th>\n",
       "      <th></th>\n",
       "      <th>left-x</th>\n",
       "      <th>left-y</th>\n",
       "      <th>right-x</th>\n",
       "      <th>right-y</th>\n",
       "      <th>nose-x</th>\n",
       "      <th>nose-y</th>\n",
       "      <th>speaker</th>\n",
       "    </tr>\n",
       "    <tr>\n",
       "      <th>video</th>\n",
       "      <th>frame</th>\n",
       "      <th></th>\n",
       "      <th></th>\n",
       "      <th></th>\n",
       "      <th></th>\n",
       "      <th></th>\n",
       "      <th></th>\n",
       "      <th></th>\n",
       "    </tr>\n",
       "  </thead>\n",
       "  <tbody>\n",
       "    <tr>\n",
       "      <th rowspan=\"5\" valign=\"top\">98</th>\n",
       "      <th>0</th>\n",
       "      <td>149</td>\n",
       "      <td>181</td>\n",
       "      <td>170</td>\n",
       "      <td>175</td>\n",
       "      <td>161</td>\n",
       "      <td>62</td>\n",
       "      <td>woman-1</td>\n",
       "    </tr>\n",
       "    <tr>\n",
       "      <th>1</th>\n",
       "      <td>149</td>\n",
       "      <td>181</td>\n",
       "      <td>170</td>\n",
       "      <td>175</td>\n",
       "      <td>161</td>\n",
       "      <td>62</td>\n",
       "      <td>woman-1</td>\n",
       "    </tr>\n",
       "    <tr>\n",
       "      <th>2</th>\n",
       "      <td>149</td>\n",
       "      <td>181</td>\n",
       "      <td>170</td>\n",
       "      <td>175</td>\n",
       "      <td>161</td>\n",
       "      <td>62</td>\n",
       "      <td>woman-1</td>\n",
       "    </tr>\n",
       "    <tr>\n",
       "      <th>3</th>\n",
       "      <td>149</td>\n",
       "      <td>181</td>\n",
       "      <td>170</td>\n",
       "      <td>175</td>\n",
       "      <td>161</td>\n",
       "      <td>62</td>\n",
       "      <td>woman-1</td>\n",
       "    </tr>\n",
       "    <tr>\n",
       "      <th>4</th>\n",
       "      <td>149</td>\n",
       "      <td>181</td>\n",
       "      <td>170</td>\n",
       "      <td>175</td>\n",
       "      <td>161</td>\n",
       "      <td>62</td>\n",
       "      <td>woman-1</td>\n",
       "    </tr>\n",
       "  </tbody>\n",
       "</table>\n",
       "</div>"
      ],
      "text/plain": [
       "             left-x  left-y  right-x  right-y  nose-x  nose-y  speaker\n",
       "video frame                                                           \n",
       "98    0         149     181      170      175     161      62  woman-1\n",
       "      1         149     181      170      175     161      62  woman-1\n",
       "      2         149     181      170      175     161      62  woman-1\n",
       "      3         149     181      170      175     161      62  woman-1\n",
       "      4         149     181      170      175     161      62  woman-1"
      ]
     },
     "execution_count": 1,
     "metadata": {},
     "output_type": "execute_result"
    }
   ],
   "source": [
    "import numpy as np\n",
    "import pandas as pd\n",
    "from asl_data import AslDb\n",
    "\n",
    "\n",
    "asl = AslDb() # initializes the database\n",
    "asl.df.head() # displays the first five rows of the asl database, indexed by video and frame"
   ]
  },
  {
   "cell_type": "code",
   "execution_count": 2,
   "metadata": {
    "collapsed": false,
    "deletable": true,
    "editable": true
   },
   "outputs": [
    {
     "name": "stdout",
     "output_type": "stream",
     "text": [
      "There are 15746 rows of data\n",
      "There are 3 speakers\n"
     ]
    },
    {
     "data": {
      "text/plain": [
       "left-x         149\n",
       "left-y         181\n",
       "right-x        170\n",
       "right-y        175\n",
       "nose-x         161\n",
       "nose-y          62\n",
       "speaker    woman-1\n",
       "Name: (98, 1), dtype: object"
      ]
     },
     "execution_count": 2,
     "metadata": {},
     "output_type": "execute_result"
    }
   ],
   "source": [
    "df = asl.df\n",
    "print('There are {} rows of data'.format(len(df)))\n",
    "print('There are {} speakers'.format(len(df.groupby('speaker').sum())))\n",
    "#print('Numeber of videos: {}'.format(len(df['video']))\n",
    "asl.df.ix[98,1]  # look at the data available for an individual frame"
   ]
  },
  {
   "cell_type": "markdown",
   "metadata": {
    "deletable": true,
    "editable": true
   },
   "source": [
    "The frame represented by video 98, frame 1 is shown here:\n",
    "![Video 98](http://www-i6.informatik.rwth-aachen.de/~dreuw/database/rwth-boston-104/overview/images/orig/098-start.jpg)"
   ]
  },
  {
   "cell_type": "markdown",
   "metadata": {
    "deletable": true,
    "editable": true
   },
   "source": [
    "##### Feature selection for training the model\n",
    "The objective of feature selection when training a model is to choose the most relevant variables while keeping the model as simple as possible, thus reducing training time.  We can use the raw features already provided or derive our own and add columns to the pandas dataframe `asl.df` for selection. As an example, in the next cell a feature named `'grnd-ry'` is added. This feature is the difference between the right-hand y value and the nose y value, which serves as the \"ground\" right y value. "
   ]
  },
  {
   "cell_type": "code",
   "execution_count": 3,
   "metadata": {
    "collapsed": false,
    "deletable": true,
    "editable": true
   },
   "outputs": [
    {
     "data": {
      "text/html": [
       "<div>\n",
       "<table border=\"1\" class=\"dataframe\">\n",
       "  <thead>\n",
       "    <tr style=\"text-align: right;\">\n",
       "      <th></th>\n",
       "      <th></th>\n",
       "      <th>left-x</th>\n",
       "      <th>left-y</th>\n",
       "      <th>right-x</th>\n",
       "      <th>right-y</th>\n",
       "      <th>nose-x</th>\n",
       "      <th>nose-y</th>\n",
       "      <th>speaker</th>\n",
       "      <th>grnd-ry</th>\n",
       "    </tr>\n",
       "    <tr>\n",
       "      <th>video</th>\n",
       "      <th>frame</th>\n",
       "      <th></th>\n",
       "      <th></th>\n",
       "      <th></th>\n",
       "      <th></th>\n",
       "      <th></th>\n",
       "      <th></th>\n",
       "      <th></th>\n",
       "      <th></th>\n",
       "    </tr>\n",
       "  </thead>\n",
       "  <tbody>\n",
       "    <tr>\n",
       "      <th rowspan=\"5\" valign=\"top\">98</th>\n",
       "      <th>0</th>\n",
       "      <td>149</td>\n",
       "      <td>181</td>\n",
       "      <td>170</td>\n",
       "      <td>175</td>\n",
       "      <td>161</td>\n",
       "      <td>62</td>\n",
       "      <td>woman-1</td>\n",
       "      <td>113</td>\n",
       "    </tr>\n",
       "    <tr>\n",
       "      <th>1</th>\n",
       "      <td>149</td>\n",
       "      <td>181</td>\n",
       "      <td>170</td>\n",
       "      <td>175</td>\n",
       "      <td>161</td>\n",
       "      <td>62</td>\n",
       "      <td>woman-1</td>\n",
       "      <td>113</td>\n",
       "    </tr>\n",
       "    <tr>\n",
       "      <th>2</th>\n",
       "      <td>149</td>\n",
       "      <td>181</td>\n",
       "      <td>170</td>\n",
       "      <td>175</td>\n",
       "      <td>161</td>\n",
       "      <td>62</td>\n",
       "      <td>woman-1</td>\n",
       "      <td>113</td>\n",
       "    </tr>\n",
       "    <tr>\n",
       "      <th>3</th>\n",
       "      <td>149</td>\n",
       "      <td>181</td>\n",
       "      <td>170</td>\n",
       "      <td>175</td>\n",
       "      <td>161</td>\n",
       "      <td>62</td>\n",
       "      <td>woman-1</td>\n",
       "      <td>113</td>\n",
       "    </tr>\n",
       "    <tr>\n",
       "      <th>4</th>\n",
       "      <td>149</td>\n",
       "      <td>181</td>\n",
       "      <td>170</td>\n",
       "      <td>175</td>\n",
       "      <td>161</td>\n",
       "      <td>62</td>\n",
       "      <td>woman-1</td>\n",
       "      <td>113</td>\n",
       "    </tr>\n",
       "  </tbody>\n",
       "</table>\n",
       "</div>"
      ],
      "text/plain": [
       "             left-x  left-y  right-x  right-y  nose-x  nose-y  speaker  \\\n",
       "video frame                                                              \n",
       "98    0         149     181      170      175     161      62  woman-1   \n",
       "      1         149     181      170      175     161      62  woman-1   \n",
       "      2         149     181      170      175     161      62  woman-1   \n",
       "      3         149     181      170      175     161      62  woman-1   \n",
       "      4         149     181      170      175     161      62  woman-1   \n",
       "\n",
       "             grnd-ry  \n",
       "video frame           \n",
       "98    0          113  \n",
       "      1          113  \n",
       "      2          113  \n",
       "      3          113  \n",
       "      4          113  "
      ]
     },
     "execution_count": 3,
     "metadata": {},
     "output_type": "execute_result"
    }
   ],
   "source": [
    "asl.df['grnd-ry'] = asl.df['right-y'] - asl.df['nose-y']\n",
    "asl.df.head()  # the new feature 'grnd-ry' is now in the frames dictionary"
   ]
  },
  {
   "cell_type": "markdown",
   "metadata": {
    "deletable": true,
    "editable": true
   },
   "source": [
    "##### Try it!"
   ]
  },
  {
   "cell_type": "code",
   "execution_count": 4,
   "metadata": {
    "collapsed": false,
    "deletable": true,
    "editable": true
   },
   "outputs": [
    {
     "name": "stdout",
     "output_type": "stream",
     "text": [
      "asl.df sample\n"
     ]
    },
    {
     "data": {
      "text/html": [
       "<div>\n",
       "<table border=\"1\" class=\"dataframe\">\n",
       "  <thead>\n",
       "    <tr style=\"text-align: right;\">\n",
       "      <th></th>\n",
       "      <th></th>\n",
       "      <th>left-x</th>\n",
       "      <th>left-y</th>\n",
       "      <th>right-x</th>\n",
       "      <th>right-y</th>\n",
       "      <th>nose-x</th>\n",
       "      <th>nose-y</th>\n",
       "      <th>speaker</th>\n",
       "      <th>grnd-ry</th>\n",
       "      <th>grnd-rx</th>\n",
       "      <th>grnd-ly</th>\n",
       "      <th>grnd-lx</th>\n",
       "    </tr>\n",
       "    <tr>\n",
       "      <th>video</th>\n",
       "      <th>frame</th>\n",
       "      <th></th>\n",
       "      <th></th>\n",
       "      <th></th>\n",
       "      <th></th>\n",
       "      <th></th>\n",
       "      <th></th>\n",
       "      <th></th>\n",
       "      <th></th>\n",
       "      <th></th>\n",
       "      <th></th>\n",
       "      <th></th>\n",
       "    </tr>\n",
       "  </thead>\n",
       "  <tbody>\n",
       "    <tr>\n",
       "      <th rowspan=\"5\" valign=\"top\">98</th>\n",
       "      <th>0</th>\n",
       "      <td>149</td>\n",
       "      <td>181</td>\n",
       "      <td>170</td>\n",
       "      <td>175</td>\n",
       "      <td>161</td>\n",
       "      <td>62</td>\n",
       "      <td>woman-1</td>\n",
       "      <td>113</td>\n",
       "      <td>9</td>\n",
       "      <td>119</td>\n",
       "      <td>-12</td>\n",
       "    </tr>\n",
       "    <tr>\n",
       "      <th>1</th>\n",
       "      <td>149</td>\n",
       "      <td>181</td>\n",
       "      <td>170</td>\n",
       "      <td>175</td>\n",
       "      <td>161</td>\n",
       "      <td>62</td>\n",
       "      <td>woman-1</td>\n",
       "      <td>113</td>\n",
       "      <td>9</td>\n",
       "      <td>119</td>\n",
       "      <td>-12</td>\n",
       "    </tr>\n",
       "    <tr>\n",
       "      <th>2</th>\n",
       "      <td>149</td>\n",
       "      <td>181</td>\n",
       "      <td>170</td>\n",
       "      <td>175</td>\n",
       "      <td>161</td>\n",
       "      <td>62</td>\n",
       "      <td>woman-1</td>\n",
       "      <td>113</td>\n",
       "      <td>9</td>\n",
       "      <td>119</td>\n",
       "      <td>-12</td>\n",
       "    </tr>\n",
       "    <tr>\n",
       "      <th>3</th>\n",
       "      <td>149</td>\n",
       "      <td>181</td>\n",
       "      <td>170</td>\n",
       "      <td>175</td>\n",
       "      <td>161</td>\n",
       "      <td>62</td>\n",
       "      <td>woman-1</td>\n",
       "      <td>113</td>\n",
       "      <td>9</td>\n",
       "      <td>119</td>\n",
       "      <td>-12</td>\n",
       "    </tr>\n",
       "    <tr>\n",
       "      <th>4</th>\n",
       "      <td>149</td>\n",
       "      <td>181</td>\n",
       "      <td>170</td>\n",
       "      <td>175</td>\n",
       "      <td>161</td>\n",
       "      <td>62</td>\n",
       "      <td>woman-1</td>\n",
       "      <td>113</td>\n",
       "      <td>9</td>\n",
       "      <td>119</td>\n",
       "      <td>-12</td>\n",
       "    </tr>\n",
       "  </tbody>\n",
       "</table>\n",
       "</div>"
      ],
      "text/plain": [
       "             left-x  left-y  right-x  right-y  nose-x  nose-y  speaker  \\\n",
       "video frame                                                              \n",
       "98    0         149     181      170      175     161      62  woman-1   \n",
       "      1         149     181      170      175     161      62  woman-1   \n",
       "      2         149     181      170      175     161      62  woman-1   \n",
       "      3         149     181      170      175     161      62  woman-1   \n",
       "      4         149     181      170      175     161      62  woman-1   \n",
       "\n",
       "             grnd-ry  grnd-rx  grnd-ly  grnd-lx  \n",
       "video frame                                      \n",
       "98    0          113        9      119      -12  \n",
       "      1          113        9      119      -12  \n",
       "      2          113        9      119      -12  \n",
       "      3          113        9      119      -12  \n",
       "      4          113        9      119      -12  "
      ]
     },
     "metadata": {},
     "output_type": "display_data"
    },
    {
     "data": {
      "text/html": [
       "<font color=green>Correct!</font><br/>"
      ],
      "text/plain": [
       "<IPython.core.display.HTML object>"
      ]
     },
     "execution_count": 4,
     "metadata": {},
     "output_type": "execute_result"
    }
   ],
   "source": [
    "from asl_utils import test_features_tryit\n",
    "# TODO add df columns for 'grnd-rx', 'grnd-ly', 'grnd-lx' representing differences between hand and nose locations\n",
    "#asl.df['hor-rx'] = asl.df['right-x'] - asl.df['nose-x'] # Right hand horizontal distance\n",
    "#asl.df['hor-lx'] = asl.df['left-x'] - asl.df['nose-x'] # Left hand horizontal distance\n",
    "asl.df['grnd-rx'] = asl.df['right-x'] - asl.df['nose-x'] # Left hand horizontal distance\n",
    "asl.df['grnd-ly'] = asl.df['left-y'] - asl.df['nose-y'] # Left hand horizontal distance\n",
    "asl.df['grnd-lx'] = asl.df['left-x'] - asl.df['nose-x'] # Left hand horizontal distance\n",
    "# test the code\n",
    "test_features_tryit(asl)"
   ]
  },
  {
   "cell_type": "code",
   "execution_count": 5,
   "metadata": {
    "collapsed": false,
    "deletable": true,
    "editable": true
   },
   "outputs": [
    {
     "data": {
      "text/plain": [
       "[9, 113, -12, 119]"
      ]
     },
     "execution_count": 5,
     "metadata": {},
     "output_type": "execute_result"
    }
   ],
   "source": [
    "# collect the features into a list\n",
    "features_ground = ['grnd-rx','grnd-ry','grnd-lx','grnd-ly']\n",
    " #show a single set of features for a given (video, frame) tuple\n",
    "[asl.df.ix[98,1][v] for v in features_ground]"
   ]
  },
  {
   "cell_type": "markdown",
   "metadata": {
    "deletable": true,
    "editable": true
   },
   "source": [
    "##### Build the training set\n",
    "Now that we have a feature list defined, we can pass that list to the `build_training` method to collect the features for all the words in the training set.  Each word in the training set has multiple examples from various videos.  Below we can see the unique words that have been loaded into the training set:"
   ]
  },
  {
   "cell_type": "code",
   "execution_count": 6,
   "metadata": {
    "collapsed": false,
    "deletable": true,
    "editable": true
   },
   "outputs": [
    {
     "name": "stdout",
     "output_type": "stream",
     "text": [
      "Number of training words: 112\n",
      "Training words: ['JOHN', 'WRITE', 'HOMEWORK', 'IX-1P', 'SEE', 'YESTERDAY', 'IX', 'LOVE', 'MARY', 'CAN', 'GO', 'GO1', 'FUTURE', 'GO2', 'PARTY', 'FUTURE1', 'HIT', 'BLAME', 'FRED', 'FISH', 'WONT', 'EAT', 'BUT', 'CHICKEN', 'VEGETABLE', 'CHINA', 'PEOPLE', 'PREFER', 'BROCCOLI', 'LIKE', 'LEAVE', 'SAY', 'BUY', 'HOUSE', 'KNOW', 'CORN', 'CORN1', 'THINK', 'NOT', 'PAST', 'LIVE', 'CHICAGO', 'CAR', 'SHOULD', 'DECIDE', 'VISIT', 'MOVIE', 'WANT', 'SELL', 'TOMORROW', 'NEXT-WEEK', 'NEW-YORK', 'LAST-WEEK', 'WILL', 'FINISH', 'ANN', 'READ', 'BOOK', 'CHOCOLATE', 'FIND', 'SOMETHING-ONE', 'POSS', 'BROTHER', 'ARRIVE', 'HERE', 'GIVE', 'MAN', 'NEW', 'COAT', 'WOMAN', 'GIVE1', 'HAVE', 'FRANK', 'BREAK-DOWN', 'SEARCH-FOR', 'WHO', 'WHAT', 'LEG', 'FRIEND', 'CANDY', 'BLUE', 'SUE', 'BUY1', 'STOLEN', 'OLD', 'STUDENT', 'VIDEOTAPE', 'BORROW', 'MOTHER', 'POTATO', 'TELL', 'BILL', 'THROW', 'APPLE', 'NAME', 'SHOOT', 'SAY-1P', 'SELF', 'GROUP', 'JANA', 'TOY1', 'MANY', 'TOY', 'ALL', 'BOY', 'TEACHER', 'GIRL', 'BOX', 'GIVE2', 'GIVE3', 'GET', 'PUTASIDE']\n"
     ]
    }
   ],
   "source": [
    "training = asl.build_training(features_ground)\n",
    "word_set = training.words\n",
    "print('Number of training words: {}'.format(len(word_set)))\n",
    "print(\"Training words: {}\".format(word_set))"
   ]
  },
  {
   "cell_type": "markdown",
   "metadata": {
    "deletable": true,
    "editable": true
   },
   "source": [
    "The training data in `training` is an object of class `WordsData` defined in the `asl_data` module.  in addition to the `words` list, data can be accessed with the `get_all_sequences`, `get_all_Xlengths`, `get_word_sequences`, and `get_word_Xlengths` methods. We need the `get_word_Xlengths` method to train multiple sequences with the `hmmlearn` library.  In the following example, notice that there are two lists; the first is a concatenation of all the sequences(the X portion) and the second is a list of the sequence lengths(the Lengths portion)."
   ]
  },
  {
   "cell_type": "code",
   "execution_count": 7,
   "metadata": {
    "collapsed": false,
    "deletable": true,
    "editable": true
   },
   "outputs": [
    {
     "data": {
      "text/plain": [
       "(array([[ -5,  63,   5, 120],\n",
       "        [ -2,  58,   1, 119],\n",
       "        [ -1,  55,   0, 116],\n",
       "        [  3,  53,  -4, 115],\n",
       "        [  8,  53,  -3, 118],\n",
       "        [  9,  56,  -4, 122],\n",
       "        [  9,  54,  -6, 127],\n",
       "        [ 10,  53,  -6, 132],\n",
       "        [  8,  50,  -5, 132],\n",
       "        [  6,  45,  -4, 130],\n",
       "        [-12, 104,   6, 137],\n",
       "        [-11,  93,   5, 136],\n",
       "        [ -9,  83,   7, 136],\n",
       "        [ -8,  77,   6, 137],\n",
       "        [ -6,  68,   6, 137],\n",
       "        [ -4,  63,   7, 138],\n",
       "        [  0,  60,   8, 138],\n",
       "        [  3,  57,  11, 138],\n",
       "        [  9,  49,  14, 132],\n",
       "        [  8,  51,  11, 130],\n",
       "        [ 14,  53,  11, 132],\n",
       "        [ 15,  54,  12, 132],\n",
       "        [ 14,  53,  12, 132],\n",
       "        [ 14,  54,  12, 133],\n",
       "        [ 15,  50,  12, 133],\n",
       "        [ 11,  45,  12, 133],\n",
       "        [ -3,  65,  35, 181],\n",
       "        [ -1,  68,  35, 181],\n",
       "        [  4,  73,  35, 181],\n",
       "        [  4,  77,  24, 176],\n",
       "        [  0,  78,  15, 177],\n",
       "        [ -1,  83,  12, 175],\n",
       "        [ -1,  83,  13, 175],\n",
       "        [ -3,  84,  12, 178],\n",
       "        [ -3,  84,  11, 178],\n",
       "        [ -3,  84,  12, 178],\n",
       "        [ -3,  84,  14, 177],\n",
       "        [  3,  84,  14, 180],\n",
       "        [  5,  82,  16, 178],\n",
       "        [  9,  81,  20, 177],\n",
       "        [  9,  93,  20, 177],\n",
       "        [ -9,  39,  14, 143],\n",
       "        [ -4,  40,  14, 143],\n",
       "        [ -4,  40,  14, 143],\n",
       "        [  1,  44,  14, 143],\n",
       "        [  1,  44,  14, 143],\n",
       "        [  6,  45,  15, 143],\n",
       "        [  6,  45,  15, 143],\n",
       "        [  6,  45,  15, 143],\n",
       "        [  6,  45,  15, 143],\n",
       "        [ 10,  41,  19, 139],\n",
       "        [ 10,  41,  19, 139],\n",
       "        [ 10,  41,  19, 139],\n",
       "        [ 10,  41,  19, 139],\n",
       "        [ 10,  41,  19, 139],\n",
       "        [ 12,  43,  21, 141],\n",
       "        [ 12,  43,  21, 141],\n",
       "        [ 12,  43,  21, 141],\n",
       "        [ 12,  45,  21, 143],\n",
       "        [ 12,  45,  21, 143],\n",
       "        [ 12,  45,  21, 143],\n",
       "        [ 15,  57,  21, 143],\n",
       "        [ 16,  67,  21, 143],\n",
       "        [-14,  67,  30, 163],\n",
       "        [-11,  74,  30, 155],\n",
       "        [ -5,  77,  26, 145],\n",
       "        [  1,  79,  21, 136],\n",
       "        [  3,  85,  11, 134],\n",
       "        [  1,  80,   5, 131],\n",
       "        [ -6,  76,   6, 128],\n",
       "        [-12,  74,   6, 138],\n",
       "        [-12,  74,  11, 144],\n",
       "        [-18,  87,  69, 111],\n",
       "        [ -8,  91,  69, 111],\n",
       "        [  0,  94,  69, 111],\n",
       "        [  4,  94,  73, 111],\n",
       "        [  4,  94,  75, 112],\n",
       "        [  1,  92,  75, 112],\n",
       "        [ -4,  88,  75, 112],\n",
       "        [-11,  91,  75, 112],\n",
       "        [-22,  90,  72, 109],\n",
       "        [-17,  44,  11,  98],\n",
       "        [-17,  44,  11,  98],\n",
       "        [ -5,  51,   3,  88],\n",
       "        [  5,  54,  -5,  83],\n",
       "        [  9,  58, -10,  70],\n",
       "        [ 13,  63, -10,  70],\n",
       "        [ 13,  63, -10,  70],\n",
       "        [ 13,  63, -10,  70],\n",
       "        [-22,  42,  10, 110],\n",
       "        [-18,  41,  10, 110],\n",
       "        [-11,  48,   8, 110],\n",
       "        [ -2,  50,   5, 115],\n",
       "        [  5,  52,   5, 115],\n",
       "        [ 12,  53,   5, 115],\n",
       "        [ 13,  54,   5, 115],\n",
       "        [  7,  48,  -3, 118],\n",
       "        [  7,  48,  -3, 118],\n",
       "        [  5,  95,  21, 134],\n",
       "        [ 12,  91,   9, 114],\n",
       "        [ 13,  88,  -6,  99],\n",
       "        [ 13,  88,  -3,  94],\n",
       "        [ 16,  83,  -2,  90],\n",
       "        [ 13,  78,  -2,  93],\n",
       "        [  8,  76, -12,  94],\n",
       "        [  9,  69, -14,  83],\n",
       "        [ 14,  62, -13,  70],\n",
       "        [ 14,  58, -11,  65],\n",
       "        [ 14,  58, -11,  65],\n",
       "        [ 14,  58, -11,  65],\n",
       "        [ 14,  58, -11,  65],\n",
       "        [-11,  49,   0,  95],\n",
       "        [ -1,  51,   1,  86],\n",
       "        [  3,  55,   1,  79],\n",
       "        [  7,  57,   1,  79],\n",
       "        [ 14,  59,   1,  79],\n",
       "        [ 14,  59,   1,  79],\n",
       "        [ 14,  59,   1,  79],\n",
       "        [ -3,  64,  30, 158],\n",
       "        [  4,  69,  28, 149],\n",
       "        [  4,  79,  26, 142],\n",
       "        [  8,  83,  26, 134],\n",
       "        [  5,  83,  11, 122],\n",
       "        [  2,  84,   8, 123],\n",
       "        [  2,  86,   6, 108],\n",
       "        [ -1,  86,   3, 108],\n",
       "        [ -1,  86,   1, 105],\n",
       "        [ -1,  86,   1, 105],\n",
       "        [ -1,  86,   1, 105],\n",
       "        [ -2,  81,  31, 173],\n",
       "        [ -2,  81,  23, 166],\n",
       "        [  7,  88,  18, 159],\n",
       "        [  7,  88,  18, 147],\n",
       "        [  9,  93,  13, 141],\n",
       "        [  6,  97,   7, 132],\n",
       "        [  2,  97,  -1, 124],\n",
       "        [ -3,  96, -10, 116],\n",
       "        [ -8,  95, -15, 115],\n",
       "        [ -8,  95, -15, 115],\n",
       "        [ -8,  95, -15, 115],\n",
       "        [ -8,  95, -15, 115],\n",
       "        [ -8,  95, -15, 115],\n",
       "        [ -8,  95, -15, 115],\n",
       "        [ -5,  95, -12, 115],\n",
       "        [ -5,  95, -12, 115],\n",
       "        [ -1,  92,  -8, 112],\n",
       "        [  0,  93,  -7, 113],\n",
       "        [  0,  80,  42, 164],\n",
       "        [  3,  80,  41, 157],\n",
       "        [  8,  86,  37, 151],\n",
       "        [ 18,  90,  38, 139],\n",
       "        [ 21,  87,  30, 125],\n",
       "        [ 20,  86,  20, 109],\n",
       "        [ 24,  85,  18, 103],\n",
       "        [ 24,  85,  18, 103],\n",
       "        [ 21,  80,  15, 106],\n",
       "        [ 23,  79,  17, 105],\n",
       "        [ 23,  79,  17, 105],\n",
       "        [ 23,  79,  17, 116],\n",
       "        [ 23,  79,  17, 116]]),\n",
       " [10, 16, 15, 22, 9, 9, 8, 9, 6, 7, 7, 11, 18, 13])"
      ]
     },
     "execution_count": 7,
     "metadata": {},
     "output_type": "execute_result"
    }
   ],
   "source": [
    "training.get_word_Xlengths('LOVE')"
   ]
  },
  {
   "cell_type": "markdown",
   "metadata": {
    "deletable": true,
    "editable": true
   },
   "source": [
    "###### More feature sets\n",
    "So far we have a simple feature set that is enough to get started modeling.  However, we might get better results if we manipulate the raw values a bit more, so we will go ahead and set up some other options now for experimentation later.  For example, we could normalize each speaker's range of motion with grouped statistics using [Pandas stats](http://pandas.pydata.org/pandas-docs/stable/api.html#api-dataframe-stats) functions and [pandas groupby](http://pandas.pydata.org/pandas-docs/stable/generated/pandas.DataFrame.groupby.html).  Below is an example for finding the means of all speaker subgroups."
   ]
  },
  {
   "cell_type": "code",
   "execution_count": 8,
   "metadata": {
    "collapsed": false,
    "deletable": true,
    "editable": true,
    "scrolled": true
   },
   "outputs": [
    {
     "data": {
      "text/html": [
       "<div>\n",
       "<table border=\"1\" class=\"dataframe\">\n",
       "  <thead>\n",
       "    <tr style=\"text-align: right;\">\n",
       "      <th></th>\n",
       "      <th>left-x</th>\n",
       "      <th>left-y</th>\n",
       "      <th>right-x</th>\n",
       "      <th>right-y</th>\n",
       "      <th>nose-x</th>\n",
       "      <th>nose-y</th>\n",
       "      <th>grnd-ry</th>\n",
       "      <th>grnd-rx</th>\n",
       "      <th>grnd-ly</th>\n",
       "      <th>grnd-lx</th>\n",
       "    </tr>\n",
       "    <tr>\n",
       "      <th>speaker</th>\n",
       "      <th></th>\n",
       "      <th></th>\n",
       "      <th></th>\n",
       "      <th></th>\n",
       "      <th></th>\n",
       "      <th></th>\n",
       "      <th></th>\n",
       "      <th></th>\n",
       "      <th></th>\n",
       "      <th></th>\n",
       "    </tr>\n",
       "  </thead>\n",
       "  <tbody>\n",
       "    <tr>\n",
       "      <th>man-1</th>\n",
       "      <td>206.248203</td>\n",
       "      <td>218.679449</td>\n",
       "      <td>155.464350</td>\n",
       "      <td>150.371031</td>\n",
       "      <td>175.031756</td>\n",
       "      <td>61.642600</td>\n",
       "      <td>88.728430</td>\n",
       "      <td>-19.567406</td>\n",
       "      <td>157.036848</td>\n",
       "      <td>31.216447</td>\n",
       "    </tr>\n",
       "    <tr>\n",
       "      <th>woman-1</th>\n",
       "      <td>164.661438</td>\n",
       "      <td>161.271242</td>\n",
       "      <td>151.017865</td>\n",
       "      <td>117.332462</td>\n",
       "      <td>162.655120</td>\n",
       "      <td>57.245098</td>\n",
       "      <td>60.087364</td>\n",
       "      <td>-11.637255</td>\n",
       "      <td>104.026144</td>\n",
       "      <td>2.006318</td>\n",
       "    </tr>\n",
       "    <tr>\n",
       "      <th>woman-2</th>\n",
       "      <td>183.214509</td>\n",
       "      <td>176.527232</td>\n",
       "      <td>156.866295</td>\n",
       "      <td>119.835714</td>\n",
       "      <td>170.318973</td>\n",
       "      <td>58.022098</td>\n",
       "      <td>61.813616</td>\n",
       "      <td>-13.452679</td>\n",
       "      <td>118.505134</td>\n",
       "      <td>12.895536</td>\n",
       "    </tr>\n",
       "  </tbody>\n",
       "</table>\n",
       "</div>"
      ],
      "text/plain": [
       "             left-x      left-y     right-x     right-y      nose-x  \\\n",
       "speaker                                                               \n",
       "man-1    206.248203  218.679449  155.464350  150.371031  175.031756   \n",
       "woman-1  164.661438  161.271242  151.017865  117.332462  162.655120   \n",
       "woman-2  183.214509  176.527232  156.866295  119.835714  170.318973   \n",
       "\n",
       "            nose-y    grnd-ry    grnd-rx     grnd-ly    grnd-lx  \n",
       "speaker                                                          \n",
       "man-1    61.642600  88.728430 -19.567406  157.036848  31.216447  \n",
       "woman-1  57.245098  60.087364 -11.637255  104.026144   2.006318  \n",
       "woman-2  58.022098  61.813616 -13.452679  118.505134  12.895536  "
      ]
     },
     "execution_count": 8,
     "metadata": {},
     "output_type": "execute_result"
    }
   ],
   "source": [
    "df_means = asl.df.groupby('speaker').mean()\n",
    "df_means"
   ]
  },
  {
   "cell_type": "markdown",
   "metadata": {
    "deletable": true,
    "editable": true
   },
   "source": [
    "To select a mean that matches by speaker, use the pandas [map](http://pandas.pydata.org/pandas-docs/stable/generated/pandas.Series.map.html) method:"
   ]
  },
  {
   "cell_type": "code",
   "execution_count": 9,
   "metadata": {
    "collapsed": false,
    "deletable": true,
    "editable": true
   },
   "outputs": [
    {
     "data": {
      "text/html": [
       "<div>\n",
       "<table border=\"1\" class=\"dataframe\">\n",
       "  <thead>\n",
       "    <tr style=\"text-align: right;\">\n",
       "      <th></th>\n",
       "      <th></th>\n",
       "      <th>left-x</th>\n",
       "      <th>left-y</th>\n",
       "      <th>right-x</th>\n",
       "      <th>right-y</th>\n",
       "      <th>nose-x</th>\n",
       "      <th>nose-y</th>\n",
       "      <th>speaker</th>\n",
       "      <th>grnd-ry</th>\n",
       "      <th>grnd-rx</th>\n",
       "      <th>grnd-ly</th>\n",
       "      <th>grnd-lx</th>\n",
       "      <th>left-x-mean</th>\n",
       "    </tr>\n",
       "    <tr>\n",
       "      <th>video</th>\n",
       "      <th>frame</th>\n",
       "      <th></th>\n",
       "      <th></th>\n",
       "      <th></th>\n",
       "      <th></th>\n",
       "      <th></th>\n",
       "      <th></th>\n",
       "      <th></th>\n",
       "      <th></th>\n",
       "      <th></th>\n",
       "      <th></th>\n",
       "      <th></th>\n",
       "      <th></th>\n",
       "    </tr>\n",
       "  </thead>\n",
       "  <tbody>\n",
       "    <tr>\n",
       "      <th rowspan=\"5\" valign=\"top\">98</th>\n",
       "      <th>0</th>\n",
       "      <td>149</td>\n",
       "      <td>181</td>\n",
       "      <td>170</td>\n",
       "      <td>175</td>\n",
       "      <td>161</td>\n",
       "      <td>62</td>\n",
       "      <td>woman-1</td>\n",
       "      <td>113</td>\n",
       "      <td>9</td>\n",
       "      <td>119</td>\n",
       "      <td>-12</td>\n",
       "      <td>164.661438</td>\n",
       "    </tr>\n",
       "    <tr>\n",
       "      <th>1</th>\n",
       "      <td>149</td>\n",
       "      <td>181</td>\n",
       "      <td>170</td>\n",
       "      <td>175</td>\n",
       "      <td>161</td>\n",
       "      <td>62</td>\n",
       "      <td>woman-1</td>\n",
       "      <td>113</td>\n",
       "      <td>9</td>\n",
       "      <td>119</td>\n",
       "      <td>-12</td>\n",
       "      <td>164.661438</td>\n",
       "    </tr>\n",
       "    <tr>\n",
       "      <th>2</th>\n",
       "      <td>149</td>\n",
       "      <td>181</td>\n",
       "      <td>170</td>\n",
       "      <td>175</td>\n",
       "      <td>161</td>\n",
       "      <td>62</td>\n",
       "      <td>woman-1</td>\n",
       "      <td>113</td>\n",
       "      <td>9</td>\n",
       "      <td>119</td>\n",
       "      <td>-12</td>\n",
       "      <td>164.661438</td>\n",
       "    </tr>\n",
       "    <tr>\n",
       "      <th>3</th>\n",
       "      <td>149</td>\n",
       "      <td>181</td>\n",
       "      <td>170</td>\n",
       "      <td>175</td>\n",
       "      <td>161</td>\n",
       "      <td>62</td>\n",
       "      <td>woman-1</td>\n",
       "      <td>113</td>\n",
       "      <td>9</td>\n",
       "      <td>119</td>\n",
       "      <td>-12</td>\n",
       "      <td>164.661438</td>\n",
       "    </tr>\n",
       "    <tr>\n",
       "      <th>4</th>\n",
       "      <td>149</td>\n",
       "      <td>181</td>\n",
       "      <td>170</td>\n",
       "      <td>175</td>\n",
       "      <td>161</td>\n",
       "      <td>62</td>\n",
       "      <td>woman-1</td>\n",
       "      <td>113</td>\n",
       "      <td>9</td>\n",
       "      <td>119</td>\n",
       "      <td>-12</td>\n",
       "      <td>164.661438</td>\n",
       "    </tr>\n",
       "  </tbody>\n",
       "</table>\n",
       "</div>"
      ],
      "text/plain": [
       "             left-x  left-y  right-x  right-y  nose-x  nose-y  speaker  \\\n",
       "video frame                                                              \n",
       "98    0         149     181      170      175     161      62  woman-1   \n",
       "      1         149     181      170      175     161      62  woman-1   \n",
       "      2         149     181      170      175     161      62  woman-1   \n",
       "      3         149     181      170      175     161      62  woman-1   \n",
       "      4         149     181      170      175     161      62  woman-1   \n",
       "\n",
       "             grnd-ry  grnd-rx  grnd-ly  grnd-lx  left-x-mean  \n",
       "video frame                                                   \n",
       "98    0          113        9      119      -12   164.661438  \n",
       "      1          113        9      119      -12   164.661438  \n",
       "      2          113        9      119      -12   164.661438  \n",
       "      3          113        9      119      -12   164.661438  \n",
       "      4          113        9      119      -12   164.661438  "
      ]
     },
     "execution_count": 9,
     "metadata": {},
     "output_type": "execute_result"
    }
   ],
   "source": [
    "asl.df['left-x-mean']= asl.df['speaker'].map(df_means['left-x'])\n",
    "asl.df.head()"
   ]
  },
  {
   "cell_type": "markdown",
   "metadata": {
    "deletable": true,
    "editable": true
   },
   "source": [
    "##### Try it!"
   ]
  },
  {
   "cell_type": "code",
   "execution_count": 10,
   "metadata": {
    "collapsed": false,
    "deletable": true,
    "editable": true
   },
   "outputs": [
    {
     "name": "stdout",
     "output_type": "stream",
     "text": [
      "df_std\n"
     ]
    },
    {
     "data": {
      "text/html": [
       "<div>\n",
       "<table border=\"1\" class=\"dataframe\">\n",
       "  <thead>\n",
       "    <tr style=\"text-align: right;\">\n",
       "      <th></th>\n",
       "      <th>left-x</th>\n",
       "      <th>left-y</th>\n",
       "      <th>right-x</th>\n",
       "      <th>right-y</th>\n",
       "      <th>nose-x</th>\n",
       "      <th>nose-y</th>\n",
       "      <th>grnd-ry</th>\n",
       "      <th>grnd-rx</th>\n",
       "      <th>grnd-ly</th>\n",
       "      <th>grnd-lx</th>\n",
       "      <th>left-x-mean</th>\n",
       "    </tr>\n",
       "    <tr>\n",
       "      <th>speaker</th>\n",
       "      <th></th>\n",
       "      <th></th>\n",
       "      <th></th>\n",
       "      <th></th>\n",
       "      <th></th>\n",
       "      <th></th>\n",
       "      <th></th>\n",
       "      <th></th>\n",
       "      <th></th>\n",
       "      <th></th>\n",
       "      <th></th>\n",
       "    </tr>\n",
       "  </thead>\n",
       "  <tbody>\n",
       "    <tr>\n",
       "      <th>man-1</th>\n",
       "      <td>15.154425</td>\n",
       "      <td>36.328485</td>\n",
       "      <td>18.901917</td>\n",
       "      <td>54.902340</td>\n",
       "      <td>6.654573</td>\n",
       "      <td>5.520045</td>\n",
       "      <td>53.487999</td>\n",
       "      <td>20.269032</td>\n",
       "      <td>36.572749</td>\n",
       "      <td>15.080360</td>\n",
       "      <td>0.0</td>\n",
       "    </tr>\n",
       "    <tr>\n",
       "      <th>woman-1</th>\n",
       "      <td>17.573442</td>\n",
       "      <td>26.594521</td>\n",
       "      <td>16.459943</td>\n",
       "      <td>34.667787</td>\n",
       "      <td>3.549392</td>\n",
       "      <td>3.538330</td>\n",
       "      <td>33.972660</td>\n",
       "      <td>16.764706</td>\n",
       "      <td>27.117393</td>\n",
       "      <td>17.328941</td>\n",
       "      <td>0.0</td>\n",
       "    </tr>\n",
       "    <tr>\n",
       "      <th>woman-2</th>\n",
       "      <td>15.388711</td>\n",
       "      <td>28.825025</td>\n",
       "      <td>14.890288</td>\n",
       "      <td>39.649111</td>\n",
       "      <td>4.099760</td>\n",
       "      <td>3.416167</td>\n",
       "      <td>39.128572</td>\n",
       "      <td>16.191324</td>\n",
       "      <td>29.320655</td>\n",
       "      <td>15.050938</td>\n",
       "      <td>0.0</td>\n",
       "    </tr>\n",
       "  </tbody>\n",
       "</table>\n",
       "</div>"
      ],
      "text/plain": [
       "            left-x     left-y    right-x    right-y    nose-x    nose-y  \\\n",
       "speaker                                                                   \n",
       "man-1    15.154425  36.328485  18.901917  54.902340  6.654573  5.520045   \n",
       "woman-1  17.573442  26.594521  16.459943  34.667787  3.549392  3.538330   \n",
       "woman-2  15.388711  28.825025  14.890288  39.649111  4.099760  3.416167   \n",
       "\n",
       "           grnd-ry    grnd-rx    grnd-ly    grnd-lx  left-x-mean  \n",
       "speaker                                                           \n",
       "man-1    53.487999  20.269032  36.572749  15.080360          0.0  \n",
       "woman-1  33.972660  16.764706  27.117393  17.328941          0.0  \n",
       "woman-2  39.128572  16.191324  29.320655  15.050938          0.0  "
      ]
     },
     "metadata": {},
     "output_type": "display_data"
    },
    {
     "data": {
      "text/html": [
       "<font color=green>Correct!</font><br/>"
      ],
      "text/plain": [
       "<IPython.core.display.HTML object>"
      ]
     },
     "execution_count": 10,
     "metadata": {},
     "output_type": "execute_result"
    }
   ],
   "source": [
    "from asl_utils import test_std_tryit\n",
    "# TODO Create a dataframe named `df_std` with standard deviations grouped by speaker\n",
    "df_std = asl.df.groupby(['speaker']).std()\n",
    "# test the code\n",
    "test_std_tryit(df_std)"
   ]
  },
  {
   "cell_type": "markdown",
   "metadata": {
    "deletable": true,
    "editable": true
   },
   "source": [
    "<a id='part1_submission'></a>\n",
    "### Features Implementation Submission\n",
    "Implement four feature sets and answer the question that follows.\n",
    "- normalized Cartesian coordinates\n",
    "    - use *mean* and *standard deviation* statistics and the [standard score](https://en.wikipedia.org/wiki/Standard_score) equation to account for speakers with different heights and arm length\n",
    "    \n",
    "- polar coordinates\n",
    "    - calculate polar coordinates with [Cartesian to polar equations](https://en.wikipedia.org/wiki/Polar_coordinate_system#Converting_between_polar_and_Cartesian_coordinates)\n",
    "    - use the [np.arctan2](https://docs.scipy.org/doc/numpy-1.10.0/reference/generated/numpy.arctan2.html) function and *swap the x and y axes* to move the $0$ to $2\\pi$ discontinuity to 12 o'clock instead of 3 o'clock;  in other words, the normal break in radians value from $0$ to $2\\pi$ occurs directly to the left of the speaker's nose, which may be in the signing area and interfere with results.  By swapping the x and y axes, that discontinuity move to directly above the speaker's head, an area not generally used in signing.\n",
    "\n",
    "- delta difference\n",
    "    - as described in Thad's lecture, use the difference in values between one frame and the next frames as features\n",
    "    - pandas [diff method](http://pandas.pydata.org/pandas-docs/stable/generated/pandas.DataFrame.diff.html) and [fillna method](http://pandas.pydata.org/pandas-docs/stable/generated/pandas.DataFrame.fillna.html) will be helpful for this one\n",
    "\n",
    "- custom features\n",
    "    - These are your own design; combine techniques used above or come up with something else entirely. We look forward to seeing what you come up with! \n",
    "    Some ideas to get you started:\n",
    "        - normalize using a [feature scaling equation](https://en.wikipedia.org/wiki/Feature_scaling)\n",
    "        - normalize the polar coordinates\n",
    "        - adding additional deltas\n"
   ]
  },
  {
   "cell_type": "code",
   "execution_count": 11,
   "metadata": {
    "collapsed": false,
    "deletable": true,
    "editable": true
   },
   "outputs": [
    {
     "data": {
      "text/html": [
       "<div>\n",
       "<table border=\"1\" class=\"dataframe\">\n",
       "  <thead>\n",
       "    <tr style=\"text-align: right;\">\n",
       "      <th></th>\n",
       "      <th></th>\n",
       "      <th>left-x</th>\n",
       "      <th>left-y</th>\n",
       "      <th>right-x</th>\n",
       "      <th>right-y</th>\n",
       "      <th>nose-x</th>\n",
       "      <th>nose-y</th>\n",
       "      <th>speaker</th>\n",
       "      <th>grnd-ry</th>\n",
       "      <th>grnd-rx</th>\n",
       "      <th>grnd-ly</th>\n",
       "      <th>grnd-lx</th>\n",
       "      <th>left-x-mean</th>\n",
       "      <th>stnd-rx</th>\n",
       "      <th>stnd-ry</th>\n",
       "      <th>stnd-lx</th>\n",
       "      <th>stnd-ly</th>\n",
       "    </tr>\n",
       "    <tr>\n",
       "      <th>video</th>\n",
       "      <th>frame</th>\n",
       "      <th></th>\n",
       "      <th></th>\n",
       "      <th></th>\n",
       "      <th></th>\n",
       "      <th></th>\n",
       "      <th></th>\n",
       "      <th></th>\n",
       "      <th></th>\n",
       "      <th></th>\n",
       "      <th></th>\n",
       "      <th></th>\n",
       "      <th></th>\n",
       "      <th></th>\n",
       "      <th></th>\n",
       "      <th></th>\n",
       "      <th></th>\n",
       "    </tr>\n",
       "  </thead>\n",
       "  <tbody>\n",
       "    <tr>\n",
       "      <th rowspan=\"5\" valign=\"top\">98</th>\n",
       "      <th>0</th>\n",
       "      <td>149</td>\n",
       "      <td>181</td>\n",
       "      <td>170</td>\n",
       "      <td>175</td>\n",
       "      <td>161</td>\n",
       "      <td>62</td>\n",
       "      <td>woman-1</td>\n",
       "      <td>113</td>\n",
       "      <td>9</td>\n",
       "      <td>119</td>\n",
       "      <td>-12</td>\n",
       "      <td>164.661438</td>\n",
       "      <td>1.153232</td>\n",
       "      <td>1.663433</td>\n",
       "      <td>-0.891199</td>\n",
       "      <td>0.741835</td>\n",
       "    </tr>\n",
       "    <tr>\n",
       "      <th>1</th>\n",
       "      <td>149</td>\n",
       "      <td>181</td>\n",
       "      <td>170</td>\n",
       "      <td>175</td>\n",
       "      <td>161</td>\n",
       "      <td>62</td>\n",
       "      <td>woman-1</td>\n",
       "      <td>113</td>\n",
       "      <td>9</td>\n",
       "      <td>119</td>\n",
       "      <td>-12</td>\n",
       "      <td>164.661438</td>\n",
       "      <td>1.153232</td>\n",
       "      <td>1.663433</td>\n",
       "      <td>-0.891199</td>\n",
       "      <td>0.741835</td>\n",
       "    </tr>\n",
       "    <tr>\n",
       "      <th>2</th>\n",
       "      <td>149</td>\n",
       "      <td>181</td>\n",
       "      <td>170</td>\n",
       "      <td>175</td>\n",
       "      <td>161</td>\n",
       "      <td>62</td>\n",
       "      <td>woman-1</td>\n",
       "      <td>113</td>\n",
       "      <td>9</td>\n",
       "      <td>119</td>\n",
       "      <td>-12</td>\n",
       "      <td>164.661438</td>\n",
       "      <td>1.153232</td>\n",
       "      <td>1.663433</td>\n",
       "      <td>-0.891199</td>\n",
       "      <td>0.741835</td>\n",
       "    </tr>\n",
       "    <tr>\n",
       "      <th>3</th>\n",
       "      <td>149</td>\n",
       "      <td>181</td>\n",
       "      <td>170</td>\n",
       "      <td>175</td>\n",
       "      <td>161</td>\n",
       "      <td>62</td>\n",
       "      <td>woman-1</td>\n",
       "      <td>113</td>\n",
       "      <td>9</td>\n",
       "      <td>119</td>\n",
       "      <td>-12</td>\n",
       "      <td>164.661438</td>\n",
       "      <td>1.153232</td>\n",
       "      <td>1.663433</td>\n",
       "      <td>-0.891199</td>\n",
       "      <td>0.741835</td>\n",
       "    </tr>\n",
       "    <tr>\n",
       "      <th>4</th>\n",
       "      <td>149</td>\n",
       "      <td>181</td>\n",
       "      <td>170</td>\n",
       "      <td>175</td>\n",
       "      <td>161</td>\n",
       "      <td>62</td>\n",
       "      <td>woman-1</td>\n",
       "      <td>113</td>\n",
       "      <td>9</td>\n",
       "      <td>119</td>\n",
       "      <td>-12</td>\n",
       "      <td>164.661438</td>\n",
       "      <td>1.153232</td>\n",
       "      <td>1.663433</td>\n",
       "      <td>-0.891199</td>\n",
       "      <td>0.741835</td>\n",
       "    </tr>\n",
       "  </tbody>\n",
       "</table>\n",
       "</div>"
      ],
      "text/plain": [
       "             left-x  left-y  right-x  right-y  nose-x  nose-y  speaker  \\\n",
       "video frame                                                              \n",
       "98    0         149     181      170      175     161      62  woman-1   \n",
       "      1         149     181      170      175     161      62  woman-1   \n",
       "      2         149     181      170      175     161      62  woman-1   \n",
       "      3         149     181      170      175     161      62  woman-1   \n",
       "      4         149     181      170      175     161      62  woman-1   \n",
       "\n",
       "             grnd-ry  grnd-rx  grnd-ly  grnd-lx  left-x-mean   stnd-rx  \\\n",
       "video frame                                                              \n",
       "98    0          113        9      119      -12   164.661438  1.153232   \n",
       "      1          113        9      119      -12   164.661438  1.153232   \n",
       "      2          113        9      119      -12   164.661438  1.153232   \n",
       "      3          113        9      119      -12   164.661438  1.153232   \n",
       "      4          113        9      119      -12   164.661438  1.153232   \n",
       "\n",
       "              stnd-ry   stnd-lx   stnd-ly  \n",
       "video frame                                \n",
       "98    0      1.663433 -0.891199  0.741835  \n",
       "      1      1.663433 -0.891199  0.741835  \n",
       "      2      1.663433 -0.891199  0.741835  \n",
       "      3      1.663433 -0.891199  0.741835  \n",
       "      4      1.663433 -0.891199  0.741835  "
      ]
     },
     "execution_count": 11,
     "metadata": {},
     "output_type": "execute_result"
    }
   ],
   "source": [
    "# Standardize data using Z-score scaling (X-Xmean)/Xstd\n",
    "\n",
    "features_stnd = ['stnd-rx', 'stnd-ry', 'stnd-lx','stnd-ly']\n",
    "df_stnd = asl.df.groupby(['speaker']).transform(lambda x: (x - x.mean()) / x.std()).rename(columns={\n",
    "    'right-x': features_stnd[0],\n",
    "    'right-y': features_stnd[1],\n",
    "    'left-x': features_stnd[2],\n",
    "    'left-y': features_stnd[3]})\n",
    "\n",
    "for i in range(len(features_stnd)):\n",
    "    asl.df[features_stnd[i]] = df_stnd[features_stnd[i]]\n",
    "asl.df.head()"
   ]
  },
  {
   "cell_type": "code",
   "execution_count": 12,
   "metadata": {
    "collapsed": false,
    "deletable": true,
    "editable": true
   },
   "outputs": [
    {
     "data": {
      "text/html": [
       "<div>\n",
       "<table border=\"1\" class=\"dataframe\">\n",
       "  <thead>\n",
       "    <tr style=\"text-align: right;\">\n",
       "      <th></th>\n",
       "      <th></th>\n",
       "      <th>left-x</th>\n",
       "      <th>left-y</th>\n",
       "      <th>right-x</th>\n",
       "      <th>right-y</th>\n",
       "      <th>nose-x</th>\n",
       "      <th>nose-y</th>\n",
       "      <th>speaker</th>\n",
       "      <th>grnd-ry</th>\n",
       "      <th>grnd-rx</th>\n",
       "      <th>grnd-ly</th>\n",
       "      <th>grnd-lx</th>\n",
       "      <th>left-x-mean</th>\n",
       "      <th>stnd-rx</th>\n",
       "      <th>stnd-ry</th>\n",
       "      <th>stnd-lx</th>\n",
       "      <th>stnd-ly</th>\n",
       "      <th>polar-rr</th>\n",
       "      <th>polar-lr</th>\n",
       "      <th>polar-rtheta</th>\n",
       "      <th>polar-ltheta</th>\n",
       "    </tr>\n",
       "    <tr>\n",
       "      <th>video</th>\n",
       "      <th>frame</th>\n",
       "      <th></th>\n",
       "      <th></th>\n",
       "      <th></th>\n",
       "      <th></th>\n",
       "      <th></th>\n",
       "      <th></th>\n",
       "      <th></th>\n",
       "      <th></th>\n",
       "      <th></th>\n",
       "      <th></th>\n",
       "      <th></th>\n",
       "      <th></th>\n",
       "      <th></th>\n",
       "      <th></th>\n",
       "      <th></th>\n",
       "      <th></th>\n",
       "      <th></th>\n",
       "      <th></th>\n",
       "      <th></th>\n",
       "      <th></th>\n",
       "    </tr>\n",
       "  </thead>\n",
       "  <tbody>\n",
       "    <tr>\n",
       "      <th rowspan=\"5\" valign=\"top\">98</th>\n",
       "      <th>0</th>\n",
       "      <td>149</td>\n",
       "      <td>181</td>\n",
       "      <td>170</td>\n",
       "      <td>175</td>\n",
       "      <td>161</td>\n",
       "      <td>62</td>\n",
       "      <td>woman-1</td>\n",
       "      <td>113</td>\n",
       "      <td>9</td>\n",
       "      <td>119</td>\n",
       "      <td>-12</td>\n",
       "      <td>164.661438</td>\n",
       "      <td>1.153232</td>\n",
       "      <td>1.663433</td>\n",
       "      <td>-0.891199</td>\n",
       "      <td>0.741835</td>\n",
       "      <td>113.35784</td>\n",
       "      <td>119.603512</td>\n",
       "      <td>0.079478</td>\n",
       "      <td>-0.100501</td>\n",
       "    </tr>\n",
       "    <tr>\n",
       "      <th>1</th>\n",
       "      <td>149</td>\n",
       "      <td>181</td>\n",
       "      <td>170</td>\n",
       "      <td>175</td>\n",
       "      <td>161</td>\n",
       "      <td>62</td>\n",
       "      <td>woman-1</td>\n",
       "      <td>113</td>\n",
       "      <td>9</td>\n",
       "      <td>119</td>\n",
       "      <td>-12</td>\n",
       "      <td>164.661438</td>\n",
       "      <td>1.153232</td>\n",
       "      <td>1.663433</td>\n",
       "      <td>-0.891199</td>\n",
       "      <td>0.741835</td>\n",
       "      <td>113.35784</td>\n",
       "      <td>119.603512</td>\n",
       "      <td>0.079478</td>\n",
       "      <td>-0.100501</td>\n",
       "    </tr>\n",
       "    <tr>\n",
       "      <th>2</th>\n",
       "      <td>149</td>\n",
       "      <td>181</td>\n",
       "      <td>170</td>\n",
       "      <td>175</td>\n",
       "      <td>161</td>\n",
       "      <td>62</td>\n",
       "      <td>woman-1</td>\n",
       "      <td>113</td>\n",
       "      <td>9</td>\n",
       "      <td>119</td>\n",
       "      <td>-12</td>\n",
       "      <td>164.661438</td>\n",
       "      <td>1.153232</td>\n",
       "      <td>1.663433</td>\n",
       "      <td>-0.891199</td>\n",
       "      <td>0.741835</td>\n",
       "      <td>113.35784</td>\n",
       "      <td>119.603512</td>\n",
       "      <td>0.079478</td>\n",
       "      <td>-0.100501</td>\n",
       "    </tr>\n",
       "    <tr>\n",
       "      <th>3</th>\n",
       "      <td>149</td>\n",
       "      <td>181</td>\n",
       "      <td>170</td>\n",
       "      <td>175</td>\n",
       "      <td>161</td>\n",
       "      <td>62</td>\n",
       "      <td>woman-1</td>\n",
       "      <td>113</td>\n",
       "      <td>9</td>\n",
       "      <td>119</td>\n",
       "      <td>-12</td>\n",
       "      <td>164.661438</td>\n",
       "      <td>1.153232</td>\n",
       "      <td>1.663433</td>\n",
       "      <td>-0.891199</td>\n",
       "      <td>0.741835</td>\n",
       "      <td>113.35784</td>\n",
       "      <td>119.603512</td>\n",
       "      <td>0.079478</td>\n",
       "      <td>-0.100501</td>\n",
       "    </tr>\n",
       "    <tr>\n",
       "      <th>4</th>\n",
       "      <td>149</td>\n",
       "      <td>181</td>\n",
       "      <td>170</td>\n",
       "      <td>175</td>\n",
       "      <td>161</td>\n",
       "      <td>62</td>\n",
       "      <td>woman-1</td>\n",
       "      <td>113</td>\n",
       "      <td>9</td>\n",
       "      <td>119</td>\n",
       "      <td>-12</td>\n",
       "      <td>164.661438</td>\n",
       "      <td>1.153232</td>\n",
       "      <td>1.663433</td>\n",
       "      <td>-0.891199</td>\n",
       "      <td>0.741835</td>\n",
       "      <td>113.35784</td>\n",
       "      <td>119.603512</td>\n",
       "      <td>0.079478</td>\n",
       "      <td>-0.100501</td>\n",
       "    </tr>\n",
       "  </tbody>\n",
       "</table>\n",
       "</div>"
      ],
      "text/plain": [
       "             left-x  left-y  right-x  right-y  nose-x  nose-y  speaker  \\\n",
       "video frame                                                              \n",
       "98    0         149     181      170      175     161      62  woman-1   \n",
       "      1         149     181      170      175     161      62  woman-1   \n",
       "      2         149     181      170      175     161      62  woman-1   \n",
       "      3         149     181      170      175     161      62  woman-1   \n",
       "      4         149     181      170      175     161      62  woman-1   \n",
       "\n",
       "             grnd-ry  grnd-rx  grnd-ly  grnd-lx  left-x-mean   stnd-rx  \\\n",
       "video frame                                                              \n",
       "98    0          113        9      119      -12   164.661438  1.153232   \n",
       "      1          113        9      119      -12   164.661438  1.153232   \n",
       "      2          113        9      119      -12   164.661438  1.153232   \n",
       "      3          113        9      119      -12   164.661438  1.153232   \n",
       "      4          113        9      119      -12   164.661438  1.153232   \n",
       "\n",
       "              stnd-ry   stnd-lx   stnd-ly   polar-rr    polar-lr  \\\n",
       "video frame                                                        \n",
       "98    0      1.663433 -0.891199  0.741835  113.35784  119.603512   \n",
       "      1      1.663433 -0.891199  0.741835  113.35784  119.603512   \n",
       "      2      1.663433 -0.891199  0.741835  113.35784  119.603512   \n",
       "      3      1.663433 -0.891199  0.741835  113.35784  119.603512   \n",
       "      4      1.663433 -0.891199  0.741835  113.35784  119.603512   \n",
       "\n",
       "             polar-rtheta  polar-ltheta  \n",
       "video frame                              \n",
       "98    0          0.079478     -0.100501  \n",
       "      1          0.079478     -0.100501  \n",
       "      2          0.079478     -0.100501  \n",
       "      3          0.079478     -0.100501  \n",
       "      4          0.079478     -0.100501  "
      ]
     },
     "execution_count": 12,
     "metadata": {},
     "output_type": "execute_result"
    }
   ],
   "source": [
    "# Convert rectangular coordinates to polar coordindates\n",
    "\n",
    "features_polar = ['polar-rr', 'polar-rtheta', 'polar-lr', 'polar-ltheta']\n",
    "asl.df['polar-rr'] = np.power(np.power(asl.df['right-x'] - asl.df['nose-x'],2) \n",
    "                              + np.power(asl.df['right-y'] - asl.df['nose-y'], 2), 0.5)\n",
    "asl.df['polar-lr'] = np.power(np.power(asl.df['left-x'] - asl.df['nose-x'],2) \n",
    "                              + np.power(asl.df['left-y'] - asl.df['nose-y'], 2), 0.5)\n",
    "asl.df['polar-rtheta'] = np.arctan2((asl.df['right-x'] - asl.df['nose-x']), (asl.df['right-y'] - asl.df['nose-y']))\n",
    "asl.df['polar-ltheta'] = np.arctan2((asl.df['left-x'] - asl.df['nose-x']), (asl.df['left-y'] - asl.df['nose-y']))\n",
    "asl.df.head()"
   ]
  },
  {
   "cell_type": "code",
   "execution_count": 13,
   "metadata": {
    "collapsed": false,
    "deletable": true,
    "editable": true
   },
   "outputs": [
    {
     "data": {
      "text/html": [
       "<div>\n",
       "<table border=\"1\" class=\"dataframe\">\n",
       "  <thead>\n",
       "    <tr style=\"text-align: right;\">\n",
       "      <th></th>\n",
       "      <th></th>\n",
       "      <th>left-x</th>\n",
       "      <th>left-y</th>\n",
       "      <th>right-x</th>\n",
       "      <th>right-y</th>\n",
       "      <th>nose-x</th>\n",
       "      <th>nose-y</th>\n",
       "      <th>speaker</th>\n",
       "      <th>grnd-ry</th>\n",
       "      <th>grnd-rx</th>\n",
       "      <th>grnd-ly</th>\n",
       "      <th>...</th>\n",
       "      <th>stnd-lx</th>\n",
       "      <th>stnd-ly</th>\n",
       "      <th>polar-rr</th>\n",
       "      <th>polar-lr</th>\n",
       "      <th>polar-rtheta</th>\n",
       "      <th>polar-ltheta</th>\n",
       "      <th>delta-rx</th>\n",
       "      <th>delta-ry</th>\n",
       "      <th>delta-lx</th>\n",
       "      <th>delta-ly</th>\n",
       "    </tr>\n",
       "    <tr>\n",
       "      <th>video</th>\n",
       "      <th>frame</th>\n",
       "      <th></th>\n",
       "      <th></th>\n",
       "      <th></th>\n",
       "      <th></th>\n",
       "      <th></th>\n",
       "      <th></th>\n",
       "      <th></th>\n",
       "      <th></th>\n",
       "      <th></th>\n",
       "      <th></th>\n",
       "      <th></th>\n",
       "      <th></th>\n",
       "      <th></th>\n",
       "      <th></th>\n",
       "      <th></th>\n",
       "      <th></th>\n",
       "      <th></th>\n",
       "      <th></th>\n",
       "      <th></th>\n",
       "      <th></th>\n",
       "      <th></th>\n",
       "    </tr>\n",
       "  </thead>\n",
       "  <tbody>\n",
       "    <tr>\n",
       "      <th rowspan=\"5\" valign=\"top\">125</th>\n",
       "      <th>52</th>\n",
       "      <td>148</td>\n",
       "      <td>181</td>\n",
       "      <td>171</td>\n",
       "      <td>156</td>\n",
       "      <td>162</td>\n",
       "      <td>60</td>\n",
       "      <td>woman-1</td>\n",
       "      <td>96</td>\n",
       "      <td>9</td>\n",
       "      <td>121</td>\n",
       "      <td>...</td>\n",
       "      <td>-0.948103</td>\n",
       "      <td>0.741835</td>\n",
       "      <td>96.420952</td>\n",
       "      <td>121.807225</td>\n",
       "      <td>0.093477</td>\n",
       "      <td>-0.11519</td>\n",
       "      <td>2.0</td>\n",
       "      <td>9.0</td>\n",
       "      <td>0.0</td>\n",
       "      <td>0.0</td>\n",
       "    </tr>\n",
       "    <tr>\n",
       "      <th>53</th>\n",
       "      <td>148</td>\n",
       "      <td>181</td>\n",
       "      <td>172</td>\n",
       "      <td>165</td>\n",
       "      <td>162</td>\n",
       "      <td>60</td>\n",
       "      <td>woman-1</td>\n",
       "      <td>105</td>\n",
       "      <td>10</td>\n",
       "      <td>121</td>\n",
       "      <td>...</td>\n",
       "      <td>-0.948103</td>\n",
       "      <td>0.741835</td>\n",
       "      <td>105.475116</td>\n",
       "      <td>121.807225</td>\n",
       "      <td>0.094952</td>\n",
       "      <td>-0.11519</td>\n",
       "      <td>1.0</td>\n",
       "      <td>9.0</td>\n",
       "      <td>0.0</td>\n",
       "      <td>0.0</td>\n",
       "    </tr>\n",
       "    <tr>\n",
       "      <th>54</th>\n",
       "      <td>148</td>\n",
       "      <td>181</td>\n",
       "      <td>175</td>\n",
       "      <td>173</td>\n",
       "      <td>162</td>\n",
       "      <td>60</td>\n",
       "      <td>woman-1</td>\n",
       "      <td>113</td>\n",
       "      <td>13</td>\n",
       "      <td>121</td>\n",
       "      <td>...</td>\n",
       "      <td>-0.948103</td>\n",
       "      <td>0.741835</td>\n",
       "      <td>113.745330</td>\n",
       "      <td>121.807225</td>\n",
       "      <td>0.114541</td>\n",
       "      <td>-0.11519</td>\n",
       "      <td>3.0</td>\n",
       "      <td>8.0</td>\n",
       "      <td>0.0</td>\n",
       "      <td>0.0</td>\n",
       "    </tr>\n",
       "    <tr>\n",
       "      <th>55</th>\n",
       "      <td>148</td>\n",
       "      <td>181</td>\n",
       "      <td>175</td>\n",
       "      <td>173</td>\n",
       "      <td>162</td>\n",
       "      <td>60</td>\n",
       "      <td>woman-1</td>\n",
       "      <td>113</td>\n",
       "      <td>13</td>\n",
       "      <td>121</td>\n",
       "      <td>...</td>\n",
       "      <td>-0.948103</td>\n",
       "      <td>0.741835</td>\n",
       "      <td>113.745330</td>\n",
       "      <td>121.807225</td>\n",
       "      <td>0.114541</td>\n",
       "      <td>-0.11519</td>\n",
       "      <td>0.0</td>\n",
       "      <td>0.0</td>\n",
       "      <td>0.0</td>\n",
       "      <td>0.0</td>\n",
       "    </tr>\n",
       "    <tr>\n",
       "      <th>56</th>\n",
       "      <td>148</td>\n",
       "      <td>181</td>\n",
       "      <td>175</td>\n",
       "      <td>173</td>\n",
       "      <td>162</td>\n",
       "      <td>60</td>\n",
       "      <td>woman-1</td>\n",
       "      <td>113</td>\n",
       "      <td>13</td>\n",
       "      <td>121</td>\n",
       "      <td>...</td>\n",
       "      <td>-0.948103</td>\n",
       "      <td>0.741835</td>\n",
       "      <td>113.745330</td>\n",
       "      <td>121.807225</td>\n",
       "      <td>0.114541</td>\n",
       "      <td>-0.11519</td>\n",
       "      <td>0.0</td>\n",
       "      <td>0.0</td>\n",
       "      <td>0.0</td>\n",
       "      <td>0.0</td>\n",
       "    </tr>\n",
       "  </tbody>\n",
       "</table>\n",
       "<p>5 rows × 24 columns</p>\n",
       "</div>"
      ],
      "text/plain": [
       "             left-x  left-y  right-x  right-y  nose-x  nose-y  speaker  \\\n",
       "video frame                                                              \n",
       "125   52        148     181      171      156     162      60  woman-1   \n",
       "      53        148     181      172      165     162      60  woman-1   \n",
       "      54        148     181      175      173     162      60  woman-1   \n",
       "      55        148     181      175      173     162      60  woman-1   \n",
       "      56        148     181      175      173     162      60  woman-1   \n",
       "\n",
       "             grnd-ry  grnd-rx  grnd-ly    ...      stnd-lx   stnd-ly  \\\n",
       "video frame                               ...                          \n",
       "125   52          96        9      121    ...    -0.948103  0.741835   \n",
       "      53         105       10      121    ...    -0.948103  0.741835   \n",
       "      54         113       13      121    ...    -0.948103  0.741835   \n",
       "      55         113       13      121    ...    -0.948103  0.741835   \n",
       "      56         113       13      121    ...    -0.948103  0.741835   \n",
       "\n",
       "               polar-rr    polar-lr  polar-rtheta  polar-ltheta  delta-rx  \\\n",
       "video frame                                                                 \n",
       "125   52      96.420952  121.807225      0.093477      -0.11519       2.0   \n",
       "      53     105.475116  121.807225      0.094952      -0.11519       1.0   \n",
       "      54     113.745330  121.807225      0.114541      -0.11519       3.0   \n",
       "      55     113.745330  121.807225      0.114541      -0.11519       0.0   \n",
       "      56     113.745330  121.807225      0.114541      -0.11519       0.0   \n",
       "\n",
       "             delta-ry  delta-lx  delta-ly  \n",
       "video frame                                \n",
       "125   52          9.0       0.0       0.0  \n",
       "      53          9.0       0.0       0.0  \n",
       "      54          8.0       0.0       0.0  \n",
       "      55          0.0       0.0       0.0  \n",
       "      56          0.0       0.0       0.0  \n",
       "\n",
       "[5 rows x 24 columns]"
      ]
     },
     "execution_count": 13,
     "metadata": {},
     "output_type": "execute_result"
    }
   ],
   "source": [
    "# Left, right, x, y differences by one time step\n",
    "\n",
    "features_delta = ['delta-rx', 'delta-ry', 'delta-lx', 'delta-ly']\n",
    "raw_values = ['right-x', 'right-y', 'left-x', 'left-y']\n",
    "for f, r in zip(features_delta, raw_values):\n",
    "    asl.df[f] = asl.df[r].diff(periods=1)\n",
    "asl.df = asl.df.fillna(0)\n",
    "asl.df.tail()"
   ]
  },
  {
   "cell_type": "code",
   "execution_count": 14,
   "metadata": {
    "collapsed": false,
    "deletable": true,
    "editable": true
   },
   "outputs": [],
   "source": [
    "# Normalize data using [X-min(X)] / [max(X) - min(X)] such that all values are between [0,1]\n",
    "# Place into a method def normalizer()\n",
    "features_norm = ['norm-rx', 'norm-ry', 'norm-lx', 'norm-ly']\n",
    "df = asl.df[raw_values]\n",
    "df = ((df - df.min()) / (df.max() - df.min())).rename(columns=\n",
    "    {'right-x': features_norm[0],\n",
    "    'right-y': features_norm[1],\n",
    "    'left-x': features_norm[2],\n",
    "    'left-y': features_norm[3]})\n",
    "for i in range(len(features_norm)):\n",
    "    asl.df[features_norm[i]] = df[features_norm[i]]\n",
    "asl.df.head()\n",
    "\n",
    "np.testing.assert_almost_equal(asl.df['norm-rx'].max(), 1)\n",
    "np.testing.assert_almost_equal(asl.df['norm-ly'].min(), 0)"
   ]
  },
  {
   "cell_type": "code",
   "execution_count": 15,
   "metadata": {
    "collapsed": false
   },
   "outputs": [
    {
     "data": {
      "text/html": [
       "<div>\n",
       "<table border=\"1\" class=\"dataframe\">\n",
       "  <thead>\n",
       "    <tr style=\"text-align: right;\">\n",
       "      <th></th>\n",
       "      <th></th>\n",
       "      <th>polar_n-rr</th>\n",
       "      <th>polar_n-rtheta</th>\n",
       "      <th>polar_n-lr</th>\n",
       "      <th>polar_n-ltheta</th>\n",
       "    </tr>\n",
       "    <tr>\n",
       "      <th>video</th>\n",
       "      <th>frame</th>\n",
       "      <th></th>\n",
       "      <th></th>\n",
       "      <th></th>\n",
       "      <th></th>\n",
       "    </tr>\n",
       "  </thead>\n",
       "  <tbody>\n",
       "    <tr>\n",
       "      <th rowspan=\"5\" valign=\"top\">98</th>\n",
       "      <th>0</th>\n",
       "      <td>0.592485</td>\n",
       "      <td>0.490063</td>\n",
       "      <td>0.557771</td>\n",
       "      <td>0.106963</td>\n",
       "    </tr>\n",
       "    <tr>\n",
       "      <th>1</th>\n",
       "      <td>0.592485</td>\n",
       "      <td>0.490063</td>\n",
       "      <td>0.557771</td>\n",
       "      <td>0.106963</td>\n",
       "    </tr>\n",
       "    <tr>\n",
       "      <th>2</th>\n",
       "      <td>0.592485</td>\n",
       "      <td>0.490063</td>\n",
       "      <td>0.557771</td>\n",
       "      <td>0.106963</td>\n",
       "    </tr>\n",
       "    <tr>\n",
       "      <th>3</th>\n",
       "      <td>0.592485</td>\n",
       "      <td>0.490063</td>\n",
       "      <td>0.557771</td>\n",
       "      <td>0.106963</td>\n",
       "    </tr>\n",
       "    <tr>\n",
       "      <th>4</th>\n",
       "      <td>0.592485</td>\n",
       "      <td>0.490063</td>\n",
       "      <td>0.557771</td>\n",
       "      <td>0.106963</td>\n",
       "    </tr>\n",
       "  </tbody>\n",
       "</table>\n",
       "</div>"
      ],
      "text/plain": [
       "             polar_n-rr  polar_n-rtheta  polar_n-lr  polar_n-ltheta\n",
       "video frame                                                        \n",
       "98    0        0.592485        0.490063    0.557771        0.106963\n",
       "      1        0.592485        0.490063    0.557771        0.106963\n",
       "      2        0.592485        0.490063    0.557771        0.106963\n",
       "      3        0.592485        0.490063    0.557771        0.106963\n",
       "      4        0.592485        0.490063    0.557771        0.106963"
      ]
     },
     "execution_count": 15,
     "metadata": {},
     "output_type": "execute_result"
    }
   ],
   "source": [
    "features_polar_norm = ['polar_n-rr', 'polar_n-rtheta', 'polar_n-lr', 'polar_n-ltheta']\n",
    "df = asl.df[features_polar]\n",
    "df = ((df - df.min()) / (df.max() - df.min())).rename(columns=\n",
    "    {features_polar[0]: features_polar_norm[0],\n",
    "    features_polar[1]: features_polar_norm[1],\n",
    "    features_polar[2]: features_polar_norm[2],\n",
    "    features_polar[3]: features_polar_norm[3]})\n",
    "\n",
    "for i in range(len(features_norm)):\n",
    "    asl.df[features_polar_norm[i]] = df[features_polar_norm[i]]\n",
    "asl.df[features_polar_norm].head()"
   ]
  },
  {
   "cell_type": "markdown",
   "metadata": {
    "deletable": true,
    "editable": true
   },
   "source": [
    "**Question 1:**  What custom features did you choose for the features_custom set and why?\n",
    "\n",
    "**Answer 1:**  I chose to add feature normalization, because normalization allows the model to train faster. The first normilization was made on the cartesian coordindates of the left and right hand. The second normalization was made on the polar coordinates since the radius and angle will have very different statistics. Normalizing the polar coordinates allows them to both be on the same scale."
   ]
  },
  {
   "cell_type": "markdown",
   "metadata": {
    "deletable": true,
    "editable": true
   },
   "source": [
    "<a id='part1_test'></a>\n",
    "### Features Unit Testing\n",
    "Run the following unit tests as a sanity check on the defined \"ground\", \"norm\", \"polar\", and 'delta\"\n",
    "feature sets.  The test simply looks for some valid values but is not exhaustive.  However, the project should not be submitted if these tests don't pass."
   ]
  },
  {
   "cell_type": "code",
   "execution_count": 16,
   "metadata": {
    "collapsed": false,
    "deletable": true,
    "editable": true
   },
   "outputs": [
    {
     "name": "stderr",
     "output_type": "stream",
     "text": [
      "....\n",
      "----------------------------------------------------------------------\n",
      "Ran 4 tests in 0.008s\n",
      "\n",
      "OK\n"
     ]
    },
    {
     "data": {
      "text/plain": [
       "<unittest.runner.TextTestResult run=4 errors=0 failures=0>"
      ]
     },
     "execution_count": 16,
     "metadata": {},
     "output_type": "execute_result"
    }
   ],
   "source": [
    "import unittest\n",
    "# import numpy as np\n",
    "\n",
    "class TestFeatures(unittest.TestCase):\n",
    "\n",
    "    def test_features_ground(self):\n",
    "        sample = (asl.df.ix[98, 1][features_ground]).tolist()\n",
    "        self.assertEqual(sample, [9, 113, -12, 119])\n",
    "\n",
    "    def test_features_stnd(self):\n",
    "        sample = (asl.df.ix[98, 1][features_stnd]).tolist()\n",
    "        np.testing.assert_almost_equal(sample, [ 1.153,  1.663, -0.891,  0.742], 3)\n",
    "\n",
    "    def test_features_polar(self):\n",
    "        sample = (asl.df.ix[98,1][features_polar]).tolist()\n",
    "        np.testing.assert_almost_equal(sample, [113.3578, 0.0794, 119.603, -0.1005], 3)\n",
    "\n",
    "    def test_features_delta(self):\n",
    "        sample = (asl.df.ix[98, 0][features_delta]).tolist()\n",
    "        self.assertEqual(sample, [0, 0, 0, 0])\n",
    "        sample = (asl.df.ix[98, 18][features_delta]).tolist()\n",
    "        self.assertTrue(sample in [[-16, -5, -2, 4], [-14, -9, 0, 0]], \"Sample value found was {}\".format(sample))\n",
    "                         \n",
    "suite = unittest.TestLoader().loadTestsFromModule(TestFeatures())\n",
    "unittest.TextTestRunner().run(suite)"
   ]
  },
  {
   "cell_type": "markdown",
   "metadata": {
    "collapsed": true,
    "deletable": true,
    "editable": true
   },
   "source": [
    "<a id='part2_tutorial'></a>\n",
    "## PART 2: Model Selection\n",
    "### Model Selection Tutorial\n",
    "The objective of Model Selection is to tune the number of states for each word HMM prior to testing on unseen data.  In this section you will explore three methods: \n",
    "- Log likelihood using cross-validation folds (CV)\n",
    "- Bayesian Information Criterion (BIC)\n",
    "- Discriminative Information Criterion (DIC) "
   ]
  },
  {
   "cell_type": "markdown",
   "metadata": {
    "deletable": true,
    "editable": true
   },
   "source": [
    "##### Train a single word\n",
    "Now that we have built a training set with sequence data, we can \"train\" models for each word.  As a simple starting example, we train a single word using Gaussian hidden Markov models (HMM).   By using the `fit` method during training, the [Baum-Welch Expectation-Maximization](https://en.wikipedia.org/wiki/Baum%E2%80%93Welch_algorithm) (EM) algorithm is invoked iteratively to find the best estimate for the model *for the number of hidden states specified* from a group of sample seequences. For this example, we *assume* the correct number of hidden states is 3, but that is just a guess.  How do we know what the \"best\" number of states for training is?  We will need to find some model selection technique to choose the best parameter."
   ]
  },
  {
   "cell_type": "code",
   "execution_count": 17,
   "metadata": {
    "collapsed": false,
    "deletable": true,
    "editable": true
   },
   "outputs": [
    {
     "name": "stdout",
     "output_type": "stream",
     "text": [
      "Number of states trained in model for FISH is 4\n",
      "logL = 81.62828140655856\n"
     ]
    }
   ],
   "source": [
    "import warnings\n",
    "from hmmlearn.hmm import GaussianHMM\n",
    "\n",
    "def train_a_word(word, num_hidden_states, features):\n",
    "    \n",
    "    warnings.filterwarnings(\"ignore\", category=DeprecationWarning)\n",
    "    training = asl.build_training(features)  \n",
    "    X, lengths = training.get_word_Xlengths(word)\n",
    "    model = GaussianHMM(n_components=num_hidden_states, n_iter=1000).fit(X, lengths)\n",
    "    logL = model.score(X, lengths)\n",
    "    return model, logL\n",
    "\n",
    "demoword = 'FISH'\n",
    "model, logL = train_a_word(demoword, 4, features_ground)\n",
    "print(\"Number of states trained in model for {} is {}\".format(demoword, model.n_components))\n",
    "print(\"logL = {}\".format(logL))"
   ]
  },
  {
   "cell_type": "markdown",
   "metadata": {
    "deletable": true,
    "editable": true
   },
   "source": [
    "The HMM model has been trained and information can be pulled from the model, including means and variances for each feature and hidden state.  The [log likelihood](http://math.stackexchange.com/questions/892832/why-we-consider-log-likelihood-instead-of-likelihood-in-gaussian-distribution) for any individual sample or group of samples can also be calculated with the `score` method."
   ]
  },
  {
   "cell_type": "code",
   "execution_count": 18,
   "metadata": {
    "collapsed": false,
    "deletable": true,
    "editable": true
   },
   "outputs": [
    {
     "name": "stdout",
     "output_type": "stream",
     "text": [
      "Number of states trained in model for FISH is 4\n",
      "hidden state #0\n",
      "mean =  [-24.00026786  45.19914285   3.39989292  88.19940992]\n",
      "variance =  [ 0.40216011  4.96341304  0.64187089  7.3613311 ]\n",
      "\n",
      "hidden state #1\n",
      "mean =  [-25.          42.           3.75012558  80.99916306]\n",
      "variance =  [  1.25020936e-03   1.25020936e-03   1.88687405e-01   3.99773502e+00]\n",
      "\n",
      "hidden state #2\n",
      "mean =  [-23.  51.   4.  89.]\n",
      "variance =  [ 0.001  0.001  0.001  0.001]\n",
      "\n",
      "hidden state #3\n",
      "mean =  [-25.  42.  -1.  98.]\n",
      "variance =  [ 0.01  0.01  0.01  0.01]\n",
      "\n"
     ]
    }
   ],
   "source": [
    "def show_model_stats(word, model):\n",
    "    print(\"Number of states trained in model for {} is {}\".format(word, model.n_components))    \n",
    "    variance=np.array([np.diag(model.covars_[i]) for i in range(model.n_components)])    \n",
    "    for i in range(model.n_components):  # for each hidden state\n",
    "        print(\"hidden state #{}\".format(i))\n",
    "        print(\"mean = \", model.means_[i])\n",
    "        print(\"variance = \", variance[i])\n",
    "        print()\n",
    "    \n",
    "show_model_stats(demoword, model)"
   ]
  },
  {
   "cell_type": "markdown",
   "metadata": {
    "deletable": true,
    "editable": true
   },
   "source": [
    "##### Try it!\n",
    "Experiment by changing the feature set, word, and/or num_hidden_states values in the next cell to see changes in values.  "
   ]
  },
  {
   "cell_type": "code",
   "execution_count": 19,
   "metadata": {
    "collapsed": false,
    "deletable": true,
    "editable": true
   },
   "outputs": [
    {
     "name": "stdout",
     "output_type": "stream",
     "text": [
      "Number of states trained in model for LOVE is 2\n",
      "hidden state #0\n",
      "mean =  [  7.01659767e+01   5.41106432e-02   1.47789607e+02   1.66305044e-01]\n",
      "variance =  [  3.46804931e+02   1.97354076e-02   2.96981210e+02   2.22743883e-02]\n",
      "\n",
      "hidden state #1\n",
      "mean =  [  7.03441645e+01   6.80261070e-02   1.03334683e+02  -1.40113492e-02]\n",
      "variance =  [  3.12117531e+02   2.99773384e-02   3.47378198e+02   9.79569824e-03]\n",
      "\n",
      "logL = -1218.7784378950864\n"
     ]
    }
   ],
   "source": [
    "my_testword = 'LOVE'\n",
    "model, logL = train_a_word(my_testword, 2, features_polar) # Experiment here with different parameters\n",
    "show_model_stats(my_testword, model)\n",
    "print(\"logL = {}\".format(logL))"
   ]
  },
  {
   "cell_type": "markdown",
   "metadata": {
    "deletable": true,
    "editable": true
   },
   "source": [
    "##### Visualize the hidden states\n",
    "We can plot the means and variances for each state and feature.  Try varying the number of states trained for the HMM model and examine the variances.  Are there some models that are \"better\" than others?  How can you tell?  We would like to hear what you think in the classroom online."
   ]
  },
  {
   "cell_type": "code",
   "execution_count": 20,
   "metadata": {
    "collapsed": false,
    "deletable": true,
    "editable": true
   },
   "outputs": [],
   "source": [
    "%matplotlib inline"
   ]
  },
  {
   "cell_type": "code",
   "execution_count": 21,
   "metadata": {
    "collapsed": false,
    "deletable": true,
    "editable": true
   },
   "outputs": [
    {
     "data": {
      "image/png": "[encoded data removed]",
      "text/plain": [
       "<matplotlib.figure.Figure at 0x7f9e462e0550>"
      ]
     },
     "metadata": {},
     "output_type": "display_data"
    },
    {
     "data": {
      "image/png": "[encoded data removed]",
      "text/plain": [
       "<matplotlib.figure.Figure at 0x7f9e4624fd30>"
      ]
     },
     "metadata": {},
     "output_type": "display_data"
    },
    {
     "data": {
      "image/png": "[encoded data removed]",
      "text/plain": [
       "<matplotlib.figure.Figure at 0x7f9e46124208>"
      ]
     },
     "metadata": {},
     "output_type": "display_data"
    },
    {
     "data": {
      "image/png": "[encoded data removed]",
      "text/plain": [
       "<matplotlib.figure.Figure at 0x7f9e46077e10>"
      ]
     },
     "metadata": {},
     "output_type": "display_data"
    }
   ],
   "source": [
    "import math\n",
    "from matplotlib import (cm, pyplot as plt, mlab)\n",
    "\n",
    "def visualize(word, model):\n",
    "    \"\"\" visualize the input model for a particular word \"\"\"\n",
    "    variance=np.array([np.diag(model.covars_[i]) for i in range(model.n_components)])\n",
    "    figures = []\n",
    "    for parm_idx in range(len(model.means_[0])):\n",
    "        xmin = int(min(model.means_[:,parm_idx]) - max(variance[:,parm_idx]))\n",
    "        xmax = int(max(model.means_[:,parm_idx]) + max(variance[:,parm_idx]))\n",
    "        fig, axs = plt.subplots(model.n_components, sharex=True, sharey=False)\n",
    "        colours = cm.rainbow(np.linspace(0, 1, model.n_components))\n",
    "        for i, (ax, colour) in enumerate(zip(axs, colours)):\n",
    "            x = np.linspace(xmin, xmax, 100)\n",
    "            mu = model.means_[i,parm_idx]\n",
    "            sigma = math.sqrt(np.diag(model.covars_[i])[parm_idx])\n",
    "            ax.plot(x, mlab.normpdf(x, mu, sigma), c=colour)\n",
    "            ax.set_title(\"{} feature {} hidden state #{}\".format(word, parm_idx, i))\n",
    "\n",
    "            ax.grid(True)\n",
    "        figures.append(plt)\n",
    "    for p in figures:\n",
    "        p.show()\n",
    "        \n",
    "visualize(my_testword, model)"
   ]
  },
  {
   "cell_type": "markdown",
   "metadata": {
    "deletable": true,
    "editable": true
   },
   "source": [
    "#####  ModelSelector class\n",
    "Review the `ModelSelector` class from the codebase found in the `my_model_selectors.py` module.  It is designed to be a strategy pattern for choosing different model selectors.  For the project submission in this section, subclass `SelectorModel` to implement the following model selectors.  In other words, you will write your own classes/functions in the `my_model_selectors.py` module and run them from this notebook:\n",
    "\n",
    "- `SelectorCV `:  Log likelihood with CV\n",
    "- `SelectorBIC`: BIC \n",
    "- `SelectorDIC`: DIC\n",
    "\n",
    "You will train each word in the training set with a range of values for the number of hidden states, and then score these alternatives with the model selector, choosing the \"best\" according to each strategy. The simple case of training with a constant value for `n_components` can be called using the provided `SelectorConstant` subclass as follow:"
   ]
  },
  {
   "cell_type": "code",
   "execution_count": 22,
   "metadata": {
    "collapsed": false,
    "deletable": true,
    "editable": true
   },
   "outputs": [
    {
     "name": "stdout",
     "output_type": "stream",
     "text": [
      "Number of states trained in model for PARTY is 3\n"
     ]
    }
   ],
   "source": [
    "from my_model_selectors import SelectorConstant\n",
    "\n",
    "training = asl.build_training(features_ground)  # Experiment here with different feature sets defined in part 1\n",
    "word = 'PARTY' # Experiment here with different words\n",
    "model = SelectorConstant(training.get_all_sequences(), training.get_all_Xlengths(), word, n_constant=3).select()\n",
    "print(\"Number of states trained in model for {} is {}\".format(word, model.n_components))"
   ]
  },
  {
   "cell_type": "markdown",
   "metadata": {
    "deletable": true,
    "editable": true
   },
   "source": [
    "##### Cross-validation folds\n",
    "If we simply score the model with the Log Likelihood calculated from the feature sequences it has been trained on, we should expect that more complex models will have higher likelihoods. However, that doesn't tell us which would have a better likelihood score on unseen data.  The model will likely be overfit as complexity is added.  To estimate which topology model is better using only the training data, we can compare scores using cross-validation.  One technique for cross-validation is to break the training set into \"folds\" and rotate which fold is left out of training.  The \"left out\" fold scored.  This gives us a proxy method of finding the best model to use on \"unseen data\". In the following example, a set of word sequences is broken into three folds using the [scikit-learn Kfold](http://scikit-learn.org/stable/modules/generated/sklearn.model_selection.KFold.html) class object. When you implement `SelectorCV`, you will use this technique."
   ]
  },
  {
   "cell_type": "code",
   "execution_count": 23,
   "metadata": {
    "collapsed": false,
    "deletable": true,
    "editable": true
   },
   "outputs": [
    {
     "name": "stdout",
     "output_type": "stream",
     "text": [
      "Train fold indices:[ 6  7  8  9 10 11 12 13 14 15 16 17] Test fold indices:[0 1 2 3 4 5]\n",
      "Train fold indices:[ 0  1  2  3  4  5 12 13 14 15 16 17] Test fold indices:[ 6  7  8  9 10 11]\n",
      "Train fold indices:[ 0  1  2  3  4  5  6  7  8  9 10 11] Test fold indices:[12 13 14 15 16 17]\n"
     ]
    }
   ],
   "source": [
    "from sklearn.model_selection import KFold\n",
    "\n",
    "training = asl.build_training(features_ground) # Experiment here with different feature sets\n",
    "word = 'BOOK' # Experiment here with different words\n",
    "word_sequences = training.get_word_sequences(word)\n",
    "split_method = KFold()\n",
    "for cv_train_idx, cv_test_idx in split_method.split(word_sequences):\n",
    "    print(\"Train fold indices:{} Test fold indices:{}\".format(cv_train_idx, cv_test_idx))  # view indices of the folds"
   ]
  },
  {
   "cell_type": "markdown",
   "metadata": {
    "deletable": true,
    "editable": true
   },
   "source": [
    "**Tip:** In order to run `hmmlearn` training using the X,lengths tuples on the new folds, subsets must be combined based on the indices given for the folds.  A helper utility has been provided in the `asl_utils` module named `combine_sequences` for this purpose."
   ]
  },
  {
   "cell_type": "markdown",
   "metadata": {
    "deletable": true,
    "editable": true
   },
   "source": [
    "##### Scoring models with other criterion\n",
    "Scoring model topologies with **BIC** balances fit and complexity within the training set for each word.  In the BIC equation, a penalty term penalizes complexity to avoid overfitting, so that it is not necessary to also use cross-validation in the selection process.  There are a number of references on the internet for this criterion.  These [slides](http://www2.imm.dtu.dk/courses/02433/doc/ch6_slides.pdf) include a formula you may find helpful for your implementation.\n",
    "\n",
    "The advantages of scoring model topologies with **DIC** over BIC are presented by Alain Biem in this [reference](http://citeseerx.ist.psu.edu/viewdoc/download?doi=10.1.1.58.6208&rep=rep1&type=pdf) (also found [here](https://pdfs.semanticscholar.org/ed3d/7c4a5f607201f3848d4c02dd9ba17c791fc2.pdf)).  DIC scores the discriminant ability of a training set for one word against competing words.  Instead of a penalty term for complexity, it provides a penalty if model liklihoods for non-matching words are too similar to model likelihoods for the correct word in the word set."
   ]
  },
  {
   "cell_type": "markdown",
   "metadata": {
    "deletable": true,
    "editable": true
   },
   "source": [
    "<a id='part2_submission'></a>\n",
    "### Model Selection Implementation Submission\n",
    "Implement `SelectorCV`, `SelectorBIC`, and `SelectorDIC` classes in the `my_model_selectors.py` module.  Run the selectors on the following five words. Then answer the questions about your results.\n",
    "\n",
    "**Tip:** The `hmmlearn` library may not be able to train or score all models.  Implement try/except contructs as necessary to eliminate non-viable models from consideration."
   ]
  },
  {
   "cell_type": "code",
   "execution_count": 24,
   "metadata": {
    "collapsed": false,
    "deletable": true,
    "editable": true
   },
   "outputs": [],
   "source": [
    "words_to_train = ['FISH', 'BOOK', 'VEGETABLE', 'FUTURE', 'JOHN']\n",
    "import timeit"
   ]
  },
  {
   "cell_type": "code",
   "execution_count": 25,
   "metadata": {
    "collapsed": false,
    "deletable": true,
    "editable": true
   },
   "outputs": [],
   "source": [
    "# Future implementation\n",
    "stnd = asl.build_training(features_stnd)\n",
    "polar = asl.build_training(features_polar_norm)\n",
    "norm = asl.build_training(features_norm)\n",
    "delta = asl.build_training(features_delta)\n",
    "\n",
    "training_dict = {'stnd': [stnd.get_all_sequences(), stnd.get_all_Xlengths()],\n",
    "                 'polar': [polar.get_all_sequences(), polar.get_all_Xlengths()],\n",
    "                 'norm': [norm.get_all_sequences(), norm.get_all_Xlengths()],\n",
    "                 'delta': [delta.get_all_sequences(), delta.get_all_Xlengths()]}"
   ]
  },
  {
   "cell_type": "code",
   "execution_count": 26,
   "metadata": {
    "collapsed": false,
    "deletable": true,
    "editable": true
   },
   "outputs": [
    {
     "name": "stdout",
     "output_type": "stream",
     "text": [
      "Training complete for FISH with 2 states with time 0.31196320899971397 seconds\n",
      "Training complete for BOOK with 10 states with time 3.7727952919999552 seconds\n",
      "Training complete for VEGETABLE with 4 states with time 1.5837972949998402 seconds\n",
      "Training complete for FUTURE with 8 states with time 3.701327622000008 seconds\n",
      "Training complete for JOHN with 13 states with time 40.69033554000043 seconds\n"
     ]
    }
   ],
   "source": [
    "from my_model_selectors import SelectorCV\n",
    "\n",
    "Xlengths = training_dict['norm'][1]\n",
    "\n",
    "for word in words_to_train:\n",
    "    start = timeit.default_timer()\n",
    "    model = SelectorCV(training_dict['norm'][0], Xlengths, word, \n",
    "                    min_n_components=2, max_n_components=15, random_state = 14).select()\n",
    "    end = timeit.default_timer()-start\n",
    "    if model is not None:\n",
    "        print(\"Training complete for {} with {} states with time {} seconds\".format(word, model.n_components, end))\n",
    "    else:\n",
    "        print(\"Training failed for {}\".format(word))"
   ]
  },
  {
   "cell_type": "code",
   "execution_count": 27,
   "metadata": {
    "collapsed": false,
    "deletable": true,
    "editable": true
   },
   "outputs": [
    {
     "name": "stdout",
     "output_type": "stream",
     "text": [
      "Training complete for FISH with 2 states with time 0.34354942500021934 seconds\n",
      "Training complete for BOOK with 5 states with time 2.0706937600002675 seconds\n",
      "Training complete for VEGETABLE with 5 states with time 0.8848589889998948 seconds\n",
      "Training complete for FUTURE with 7 states with time 2.5369632299998557 seconds\n",
      "Training complete for JOHN with 15 states with time 20.319774637000137 seconds\n"
     ]
    }
   ],
   "source": [
    "from my_model_selectors import SelectorBIC\n",
    "\n",
    "Xlengths = training_dict['stnd'][1]\n",
    "for word in words_to_train:\n",
    "    start = timeit.default_timer()\n",
    "    model = SelectorBIC(training_dict['stnd'][0], Xlengths, word, \n",
    "                    min_n_components=2, max_n_components=15, random_state = 14).select()\n",
    "    end = timeit.default_timer()-start\n",
    "    if model is not None:\n",
    "        print(\"Training complete for {} with {} states with time {} seconds\".format(word, model.n_components, end))\n",
    "    else:\n",
    "        print(\"Training failed for {}\".format(word))"
   ]
  },
  {
   "cell_type": "code",
   "execution_count": 28,
   "metadata": {
    "collapsed": false,
    "deletable": true,
    "editable": true
   },
   "outputs": [
    {
     "name": "stdout",
     "output_type": "stream",
     "text": [
      "Training complete for FISH with 3 states with time 2.327009954999994 seconds\n",
      "Training complete for BOOK with 9 states with time 3.7882873650000874 seconds\n",
      "Training complete for VEGETABLE with 3 states with time 3.4862867290003123 seconds\n",
      "Training complete for FUTURE with 10 states with time 5.12363688700043 seconds\n",
      "Training complete for JOHN with 15 states with time 18.772594040000058 seconds\n"
     ]
    }
   ],
   "source": [
    "from my_model_selectors import SelectorDIC\n",
    "\n",
    "Xlengths = training_dict['polar'][1]\n",
    "for word in words_to_train:\n",
    "    start = timeit.default_timer()\n",
    "    model = SelectorDIC(training_dict['polar'][0], Xlengths, word, \n",
    "                    min_n_components=2, max_n_components=15, random_state = 14).select()\n",
    "    end = timeit.default_timer()-start\n",
    "    if model is not None:\n",
    "        print(\"Training complete for {} with {} states with time {} seconds\".format(word, model.n_components, end))\n",
    "    else:\n",
    "        print(\"Training failed for {}\".format(word))"
   ]
  },
  {
   "cell_type": "markdown",
   "metadata": {
    "deletable": true,
    "editable": true
   },
   "source": [
    "**Question 2:**  Compare and contrast the possible advantages and disadvantages of the various model selectors implemented.\n",
    "\n",
    "**Answer 2:** The cross validation (CV) is at a disadvantage here given the amount of data. CV is preformed by splitting the data set and into training and testing thus a considerable amount of data is needed for CV to preform well. The pro of CV is the fact that it will make the model more flexible on new data, hence not overfitting.\n",
    "\n",
    "Bayesian information criteria (BIC) calculates the score of a model in a simple non-linear function. BIC uses all the data to determine the score and has a penalty term to punish models that have more complexity.  By reducing complexity BIC aims to prevent overfitting. Thus models that score high on BIC will run fast; however the speed comes at  the cost of accuracy. \n",
    "\n",
    "Discriminative Information Criterion (DIC) also uses all of the available data for training and has the same overfitting issue as BIC. DIC tries to find a model for each word with respect to the other words in the training set. Each word is quantified in a unique way to its counter part."
   ]
  },
  {
   "cell_type": "markdown",
   "metadata": {
    "deletable": true,
    "editable": true
   },
   "source": [
    "<a id='part2_test'></a>\n",
    "### Model Selector Unit Testing\n",
    "Run the following unit tests as a sanity check on the implemented model selectors.  The test simply looks for valid interfaces  but is not exhaustive. However, the project should not be submitted if these tests don't pass."
   ]
  },
  {
   "cell_type": "code",
   "execution_count": 29,
   "metadata": {
    "collapsed": false,
    "deletable": true,
    "editable": true
   },
   "outputs": [
    {
     "name": "stderr",
     "output_type": "stream",
     "text": [
      "....\n",
      "----------------------------------------------------------------------\n",
      "Ran 4 tests in 46.734s\n",
      "\n",
      "OK\n"
     ]
    },
    {
     "data": {
      "text/plain": [
       "<unittest.runner.TextTestResult run=4 errors=0 failures=0>"
      ]
     },
     "execution_count": 29,
     "metadata": {},
     "output_type": "execute_result"
    }
   ],
   "source": [
    "from asl_test_model_selectors import TestSelectors\n",
    "suite = unittest.TestLoader().loadTestsFromModule(TestSelectors())\n",
    "unittest.TextTestRunner().run(suite)"
   ]
  },
  {
   "cell_type": "markdown",
   "metadata": {
    "collapsed": false,
    "deletable": true,
    "editable": true
   },
   "source": [
    "<a id='part3_tutorial'></a>\n",
    "## PART 3: Recognizer\n",
    "The objective of this section is to \"put it all together\".  Using the four feature sets created and the three model selectors, you will experiment with the models and present your results.  Instead of training only five specific words as in the previous section, train the entire set with a feature set and model selector strategy.  \n",
    "### Recognizer Tutorial\n",
    "##### Train the full training set\n",
    "The following example trains the entire set with the example `features_ground` and `SelectorConstant` features and model selector.  Use this pattern for you experimentation and final submission cells.\n",
    "\n"
   ]
  },
  {
   "cell_type": "code",
   "execution_count": 30,
   "metadata": {
    "collapsed": false,
    "deletable": true,
    "editable": true
   },
   "outputs": [
    {
     "name": "stdout",
     "output_type": "stream",
     "text": [
      "Number of word models returned = 112\n"
     ]
    }
   ],
   "source": [
    "# autoreload for automatically reloading changes made in my_model_selectors and my_recognizer\n",
    "%load_ext autoreload\n",
    "%autoreload 2\n",
    "\n",
    "from my_model_selectors import SelectorConstant\n",
    "\n",
    "def train_all_words(features, model_selector):\n",
    "    training = asl.build_training(features)  # Experiment here with different feature sets defined in part 1\n",
    "    sequences = training.get_all_sequences()\n",
    "    Xlengths = training.get_all_Xlengths()\n",
    "    model_dict = {}\n",
    "    for word in training.words:\n",
    "        model = model_selector(sequences, Xlengths, word, \n",
    "                        n_constant=3).select()\n",
    "        model_dict[word]=model\n",
    "    return model_dict\n",
    "\n",
    "models = train_all_words(features_ground, SelectorConstant)\n",
    "print(\"Number of word models returned = {}\".format(len(models)))"
   ]
  },
  {
   "cell_type": "markdown",
   "metadata": {
    "deletable": true,
    "editable": true
   },
   "source": [
    "##### Load the test set\n",
    "The `build_test` method in `ASLdb` is similar to the `build_training` method already presented, but there are a few differences:\n",
    "- the object is type `SinglesData` \n",
    "- the internal dictionary keys are the index of the test word rather than the word itself\n",
    "- the getter methods are `get_all_sequences`, `get_all_Xlengths`, `get_item_sequences` and `get_item_Xlengths`"
   ]
  },
  {
   "cell_type": "code",
   "execution_count": 31,
   "metadata": {
    "collapsed": false,
    "deletable": true,
    "editable": true
   },
   "outputs": [
    {
     "name": "stdout",
     "output_type": "stream",
     "text": [
      "Number of test set items: 178\n",
      "Number of test set sentences: 40\n"
     ]
    }
   ],
   "source": [
    "test_set = asl.build_test(features_ground)\n",
    "print(\"Number of test set items: {}\".format(test_set.num_items))\n",
    "print(\"Number of test set sentences: {}\".format(len(test_set.sentences_index)))"
   ]
  },
  {
   "cell_type": "markdown",
   "metadata": {
    "deletable": true,
    "editable": true
   },
   "source": [
    "<a id='part3_submission'></a>\n",
    "### Recognizer Implementation Submission\n",
    "For the final project submission, students must implement a recognizer following guidance in the `my_recognizer.py` module.  Experiment with the four feature sets and the three model selection methods (that's 12 possible combinations). You can add and remove cells for experimentation or run the recognizers locally in some other way during your experiments, but retain the results for your discussion.  For submission, you will provide code cells of **only three** interesting combinations for your discussion (see questions below). At least one of these should produce a word error rate of less than 60%, i.e. WER < 0.60 . \n",
    "\n",
    "**Tip:** The hmmlearn library may not be able to train or score all models.  Implement try/except contructs as necessary to eliminate non-viable models from consideration."
   ]
  },
  {
   "cell_type": "code",
   "execution_count": 32,
   "metadata": {
    "collapsed": false,
    "deletable": true,
    "editable": true
   },
   "outputs": [],
   "source": [
    "# TODO implement the recognize method in my_recognizer\n",
    "from my_recognizer import recognize\n",
    "from asl_utils import show_errors"
   ]
  },
  {
   "cell_type": "code",
   "execution_count": 33,
   "metadata": {
    "collapsed": false,
    "deletable": true,
    "editable": true
   },
   "outputs": [
    {
     "name": "stdout",
     "output_type": "stream",
     "text": [
      "\n",
      "**** WER = 0.5393258426966292\n",
      "Total correct: 82 out of 178\n",
      "Video  Recognized                                                    Correct\n",
      "=====================================================================================================\n",
      "    2: *GO WRITE HOMEWORK                                            JOHN WRITE HOMEWORK\n",
      "    7: JOHN *PEOPLE *MARY *TOY                                       JOHN CAN GO CAN\n",
      "   12: JOHN *WHAT *GO1 CAN                                           JOHN CAN GO CAN\n",
      "   21: JOHN *HOMEWORK WONT *PREFER BUT *PARTY *CHICKEN CHICKEN       JOHN FISH WONT EAT BUT CAN EAT CHICKEN\n",
      "   25: *ANN *WHO *ANN *WHO *ANN                                      JOHN LIKE IX IX IX\n",
      "   28: JOHN *WHO *ANN *WHO *NOT                                      JOHN LIKE IX IX IX\n",
      "   30: JOHN *MARY *MARY *MARY *MARY                                  JOHN LIKE IX IX IX\n",
      "   36: *VISIT VEGETABLE *GIRL *GIVE *MARY *MARY                      MARY VEGETABLE KNOW IX LIKE CORN1\n",
      "   40: JOHN *VISIT *CORN *JOHN *MARY                                 JOHN IX THINK MARY LOVE\n",
      "   43: JOHN *PAST BUY HOUSE                                          JOHN MUST BUY HOUSE\n",
      "   50: *FRANK *SEE *WRITE CAR *JOHN                                  FUTURE JOHN BUY CAR SHOULD\n",
      "   54: JOHN *FRANK *THINK BUY HOUSE                                  JOHN SHOULD NOT BUY HOUSE\n",
      "   57: *MARY *PREFER VISIT *GIVE2                                    JOHN DECIDE VISIT MARY\n",
      "   67: JOHN *KNOW *WHO BUY HOUSE                                     JOHN FUTURE NOT BUY HOUSE\n",
      "   71: JOHN *FUTURE *GO MARY                                         JOHN WILL VISIT MARY\n",
      "   74: *IX *VEGETABLE *GIVE2 MARY                                    JOHN NOT VISIT MARY\n",
      "   77: *JOHN BLAME MARY                                              ANN BLAME MARY\n",
      "   84: *ANN *STUDENT *HOMEWORK BOOK                                  IX-1P FIND SOMETHING-ONE BOOK\n",
      "   89: *THINK *WILL *MAN *IX IX *ARRIVE *BREAK-DOWN                  JOHN IX GIVE MAN IX NEW COAT\n",
      "   90: *SELF *GIVE1 IX SOMETHING-ONE WOMAN *COAT                     JOHN GIVE IX SOMETHING-ONE WOMAN BOOK\n",
      "   92: JOHN *MAN *SOMETHING-ONE SOMETHING-ONE WOMAN BOOK             JOHN GIVE IX SOMETHING-ONE WOMAN BOOK\n",
      "  100: POSS NEW *BUT BREAK-DOWN                                      POSS NEW CAR BREAK-DOWN\n",
      "  105: JOHN *VEGETABLE                                               JOHN LEG\n",
      "  107: JOHN POSS FRIEND *MARY CANDY                                  JOHN POSS FRIEND HAVE CANDY\n",
      "  108: *THINK *POTATO                                                WOMAN ARRIVE\n",
      "  113: IX CAR BLUE *TOY1 *BUY1                                       IX CAR BLUE SUE BUY\n",
      "  119: *PREFER *BUY1 *BLUE *TOY *JANA                                SUE BUY IX CAR BLUE\n",
      "  122: JOHN *GIVE1 BOOK                                              JOHN READ BOOK\n",
      "  139: JOHN *BUY1 WHAT YESTERDAY BOOK                                JOHN BUY WHAT YESTERDAY BOOK\n",
      "  142: JOHN *NEW YESTERDAY WHAT BOOK                                 JOHN BUY YESTERDAY WHAT BOOK\n",
      "  158: LOVE JOHN WHO                                                 LOVE JOHN WHO\n",
      "  167: JOHN *TOY1 *SAY-1P LOVE MARY                                  JOHN IX SAY LOVE MARY\n",
      "  171: *MARY MARY BLAME                                              JOHN MARY BLAME\n",
      "  174: *LIVE GROUP GIVE1 *CORN TOY                                   PEOPLE GROUP GIVE1 JANA TOY\n",
      "  181: *SUE ARRIVE                                                   JOHN ARRIVE\n",
      "  184: ALL BOY *GIVE1 TEACHER *GIRL                                  ALL BOY GIVE TEACHER APPLE\n",
      "  189: JOHN *SELF *FUTURE1 *BUY1                                     JOHN GIVE GIRL BOX\n",
      "  193: JOHN *SELF *FUTURE1 BOX                                       JOHN GIVE GIRL BOX\n",
      "  199: *ANN CHOCOLATE WHO                                            LIKE CHOCOLATE WHO\n",
      "  201: JOHN *MARY *LOVE *WOMAN BUY HOUSE                             JOHN TELL MARY IX-1P BUY HOUSE\n"
     ]
    }
   ],
   "source": [
    "# TODO Choose a feature set and model selector\n",
    "features = features_polar_norm # change as needed\n",
    "model_selector = SelectorBIC # change as needed\n",
    "\n",
    "# TODO Recognize the test set and display the result with the show_errors method\n",
    "models = train_all_words(features, model_selector)\n",
    "test_set = asl.build_test(features)\n",
    "probabilities, guesses = recognize(models, test_set)\n",
    "show_errors(guesses, test_set)"
   ]
  },
  {
   "cell_type": "code",
   "execution_count": 34,
   "metadata": {
    "collapsed": false,
    "deletable": true,
    "editable": true
   },
   "outputs": [
    {
     "name": "stdout",
     "output_type": "stream",
     "text": [
      "\n",
      "**** WER = 0.6292134831460674\n",
      "Total correct: 66 out of 178\n",
      "Video  Recognized                                                    Correct\n",
      "=====================================================================================================\n",
      "    2: JOHN *GIVE1 *ARRIVE                                           JOHN WRITE HOMEWORK\n",
      "    7: JOHN *GIVE1 *GIVE1 *ARRIVE                                    JOHN CAN GO CAN\n",
      "   12: JOHN *BOX *JOHN CAN                                           JOHN CAN GO CAN\n",
      "   21: JOHN *MARY *LOVE *MARY *HOUSE *FUTURE *FUTURE *MARY           JOHN FISH WONT EAT BUT CAN EAT CHICKEN\n",
      "   25: JOHN *IX *JOHN IX IX                                          JOHN LIKE IX IX IX\n",
      "   28: JOHN *MARY *JOHN IX *SHOULD                                   JOHN LIKE IX IX IX\n",
      "   30: JOHN *IX *SHOULD *JOHN IX                                     JOHN LIKE IX IX IX\n",
      "   36: *JOHN *JOHN *JOHN IX *MARY *MARY                              MARY VEGETABLE KNOW IX LIKE CORN1\n",
      "   40: *MARY IX *JOHN MARY *MARY                                     JOHN IX THINK MARY LOVE\n",
      "   43: JOHN *IX BUY HOUSE                                            JOHN MUST BUY HOUSE\n",
      "   50: *JOHN JOHN BUY CAR *MARY                                      FUTURE JOHN BUY CAR SHOULD\n",
      "   54: JOHN *JOHN *JOHN BUY HOUSE                                    JOHN SHOULD NOT BUY HOUSE\n",
      "   57: *MARY *JOHN *IX *IX                                           JOHN DECIDE VISIT MARY\n",
      "   67: JOHN *JOHN *MARY BUY HOUSE                                    JOHN FUTURE NOT BUY HOUSE\n",
      "   71: JOHN *MARY VISIT MARY                                         JOHN WILL VISIT MARY\n",
      "   74: JOHN *JOHN *IX MARY                                           JOHN NOT VISIT MARY\n",
      "   77: *JOHN *ARRIVE MARY                                            ANN BLAME MARY\n",
      "   84: *GO *CAR *IX *LOVE                                            IX-1P FIND SOMETHING-ONE BOOK\n",
      "   89: *MARY *JOHN *IX *IX *JOHN *WHAT *CAN                          JOHN IX GIVE MAN IX NEW COAT\n",
      "   90: JOHN *JOHN *JOHN *IX *IX *MARY                                JOHN GIVE IX SOMETHING-ONE WOMAN BOOK\n",
      "   92: JOHN *IX *JOHN *IX WOMAN *MARY                                JOHN GIVE IX SOMETHING-ONE WOMAN BOOK\n",
      "  100: *JOHN *ARRIVE CAR *HOUSE                                      POSS NEW CAR BREAK-DOWN\n",
      "  105: JOHN *JOHN                                                    JOHN LEG\n",
      "  107: JOHN POSS *ARRIVE *MARY *JOHN                                 JOHN POSS FRIEND HAVE CANDY\n",
      "  108: *JOHN *LOVE                                                   WOMAN ARRIVE\n",
      "  113: *JOHN CAR *MARY *IX *GIVE1                                    IX CAR BLUE SUE BUY\n",
      "  119: *JOHN *GIVE1 IX CAR *MARY                                     SUE BUY IX CAR BLUE\n",
      "  122: JOHN *GIVE1 *WHAT                                             JOHN READ BOOK\n",
      "  139: JOHN *GIVE1 WHAT *JOHN *WHAT                                  JOHN BUY WHAT YESTERDAY BOOK\n",
      "  142: JOHN BUY *FUTURE WHAT *WHAT                                   JOHN BUY YESTERDAY WHAT BOOK\n",
      "  158: LOVE JOHN *JOHN                                               LOVE JOHN WHO\n",
      "  167: JOHN IX *IX *WHAT MARY                                        JOHN IX SAY LOVE MARY\n",
      "  171: JOHN *JOHN BLAME                                              JOHN MARY BLAME\n",
      "  174: *GIVE1 *LOVE GIVE1 *JOHN *CAR                                 PEOPLE GROUP GIVE1 JANA TOY\n",
      "  181: JOHN ARRIVE                                                   JOHN ARRIVE\n",
      "  184: *IX *JOHN *GIVE1 TEACHER *MARY                                ALL BOY GIVE TEACHER APPLE\n",
      "  189: JOHN *JOHN *JOHN *ARRIVE                                      JOHN GIVE GIRL BOX\n",
      "  193: JOHN *IX *WOMAN BOX                                           JOHN GIVE GIRL BOX\n",
      "  199: *JOHN *WHAT *MARY                                             LIKE CHOCOLATE WHO\n",
      "  201: JOHN *IX *IX *JOHN BUY HOUSE                                  JOHN TELL MARY IX-1P BUY HOUSE\n"
     ]
    }
   ],
   "source": [
    "# TODO Choose a feature set and model selector\n",
    "features = features_delta\n",
    "model_selector = SelectorDIC\n",
    "\n",
    "# TODO Recognize the test set and display the result with the show_errors method\n",
    "models = train_all_words(features, model_selector)\n",
    "test_set = asl.build_test(features)\n",
    "prob, guesses = recognize(models, test_set)\n",
    "show_errors(guesses, test_set)"
   ]
  },
  {
   "cell_type": "code",
   "execution_count": 35,
   "metadata": {
    "collapsed": false,
    "deletable": true,
    "editable": true
   },
   "outputs": [
    {
     "name": "stdout",
     "output_type": "stream",
     "text": [
      "\n",
      "**** WER = 0.5955056179775281\n",
      "Total correct: 72 out of 178\n",
      "Video  Recognized                                                    Correct\n",
      "=====================================================================================================\n",
      "    2: JOHN *BUY *HAVE                                               JOHN WRITE HOMEWORK\n",
      "    7: JOHN *NEW *SOMETHING-ONE CAN                                  JOHN CAN GO CAN\n",
      "   12: *IX *HAVE *GO1 CAN                                            JOHN CAN GO CAN\n",
      "   21: *LIKE *HAVE *HAVE *IX-1P *VISIT *BLAME *CHICKEN *EAT          JOHN FISH WONT EAT BUT CAN EAT CHICKEN\n",
      "   25: *IX LIKE IX *LIKE IX                                          JOHN LIKE IX IX IX\n",
      "   28: *IX LIKE IX *LIKE IX                                          JOHN LIKE IX IX IX\n",
      "   30: *IX-1P LIKE *LOVE *LIKE IX                                    JOHN LIKE IX IX IX\n",
      "   36: *LIKE VEGETABLE *GIVE3 *VISIT LIKE *LIKE                      MARY VEGETABLE KNOW IX LIKE CORN1\n",
      "   40: JOHN *JOHN *FUTURE1 *VEGETABLE LOVE                           JOHN IX THINK MARY LOVE\n",
      "   43: JOHN *JOHN BUY HOUSE                                          JOHN MUST BUY HOUSE\n",
      "   50: *POSS *FRANK *HAVE *CAN *CAR                                  FUTURE JOHN BUY CAR SHOULD\n",
      "   54: JOHN *FUTURE *MAN *STUDENT HOUSE                              JOHN SHOULD NOT BUY HOUSE\n",
      "   57: *LIKE *MARY VISIT *LOVE                                       JOHN DECIDE VISIT MARY\n",
      "   67: *LIKE FUTURE *JOHN *ARRIVE HOUSE                              JOHN FUTURE NOT BUY HOUSE\n",
      "   71: JOHN *FUTURE VISIT MARY                                       JOHN WILL VISIT MARY\n",
      "   74: JOHN *BILL *BILL *LOVE                                        JOHN NOT VISIT MARY\n",
      "   77: *IX BLAME MARY                                                ANN BLAME MARY\n",
      "   84: *JOHN *ARRIVE *FUTURE BOOK                                    IX-1P FIND SOMETHING-ONE BOOK\n",
      "   89: *FUTURE *POSS *VISIT *GO *GO NEW COAT                         JOHN IX GIVE MAN IX NEW COAT\n",
      "   90: *SELF *GIVE1 IX *IX WOMAN BOOK                                JOHN GIVE IX SOMETHING-ONE WOMAN BOOK\n",
      "   92: JOHN *GIVE1 IX *IX WOMAN BOOK                                 JOHN GIVE IX SOMETHING-ONE WOMAN BOOK\n",
      "  100: POSS NEW CAR BREAK-DOWN                                       POSS NEW CAR BREAK-DOWN\n",
      "  105: JOHN *TELL                                                    JOHN LEG\n",
      "  107: *BILL *IX *BOX *MARY *JOHN                                    JOHN POSS FRIEND HAVE CANDY\n",
      "  108: *SOMETHING-ONE *JOHN                                          WOMAN ARRIVE\n",
      "  113: IX CAR *IX *JOHN *BOX                                         IX CAR BLUE SUE BUY\n",
      "  119: *WHO *BUY1 IX CAR *SUE                                        SUE BUY IX CAR BLUE\n",
      "  122: JOHN *HOUSE BOOK                                              JOHN READ BOOK\n",
      "  139: JOHN *BUY1 *VIDEOTAPE YESTERDAY BOOK                          JOHN BUY WHAT YESTERDAY BOOK\n",
      "  142: JOHN BUY YESTERDAY WHAT BOOK                                  JOHN BUY YESTERDAY WHAT BOOK\n",
      "  158: LOVE *MARY *CORN                                              LOVE JOHN WHO\n",
      "  167: JOHN *JOHN *VEGETABLE LOVE *LOVE                              JOHN IX SAY LOVE MARY\n",
      "  171: JOHN *JOHN BLAME                                              JOHN MARY BLAME\n",
      "  174: *NEW *GIVE1 GIVE1 *TELL *CAR                                  PEOPLE GROUP GIVE1 JANA TOY\n",
      "  181: JOHN *BOX                                                     JOHN ARRIVE\n",
      "  184: *IX *FUTURE *GIVE1 TEACHER APPLE                              ALL BOY GIVE TEACHER APPLE\n",
      "  189: *TELL *GIVE3 *PREFER *ARRIVE                                  JOHN GIVE GIRL BOX\n",
      "  193: *NOT *THROW *NOT BOX                                          JOHN GIVE GIRL BOX\n",
      "  199: *JOHN CHOCOLATE *JOHN                                         LIKE CHOCOLATE WHO\n",
      "  201: JOHN *THINK *WOMAN *WOMAN *STUDENT HOUSE                      JOHN TELL MARY IX-1P BUY HOUSE\n"
     ]
    }
   ],
   "source": [
    "# TODO Choose a feature set and model selector\n",
    "features = features_stnd\n",
    "model_selector = SelectorCV\n",
    "\n",
    "# TODO Recognize the test set and display the result with the show_errors method\n",
    "models = train_all_words(features, model_selector)\n",
    "test_set = asl.build_test(features)\n",
    "prob, guesses = recognize(models, test_set)\n",
    "show_errors(guesses, test_set)"
   ]
  },
  {
   "cell_type": "code",
   "execution_count": 38,
   "metadata": {
    "collapsed": false
   },
   "outputs": [
    {
     "name": "stdout",
     "output_type": "stream",
     "text": [
      "\n",
      "**** WER = 0.47752808988764045\n",
      "Total correct: 93 out of 178\n",
      "Video  Recognized                                                    Correct\n",
      "=====================================================================================================\n",
      "    2: *HIT WRITE HOMEWORK                                           JOHN WRITE HOMEWORK\n",
      "    7: JOHN *PEOPLE GO *TOY                                          JOHN CAN GO CAN\n",
      "   12: JOHN *WHAT *GO1 CAN                                           JOHN CAN GO CAN\n",
      "   21: JOHN *HOMEWORK WONT *FUTURE BUT CAN *CHICKEN CHICKEN          JOHN FISH WONT EAT BUT CAN EAT CHICKEN\n",
      "   25: *ANN *TELL *THROW *WHO *THROW                                 JOHN LIKE IX IX IX\n",
      "   28: JOHN *WHO *ANN *WHO *NOT                                      JOHN LIKE IX IX IX\n",
      "   30: JOHN *MARY *MARY *MARY *MARY                                  JOHN LIKE IX IX IX\n",
      "   36: *BILL VEGETABLE *GIRL *GIVE *MARY *MARY                       MARY VEGETABLE KNOW IX LIKE CORN1\n",
      "   40: JOHN *GIVE *CORN MARY *MARY                                   JOHN IX THINK MARY LOVE\n",
      "   43: JOHN *PAST BUY HOUSE                                          JOHN MUST BUY HOUSE\n",
      "   50: *FRANK *FUTURE BUY CAR *HOMEWORK                              FUTURE JOHN BUY CAR SHOULD\n",
      "   54: JOHN *FRANK *THINK BUY HOUSE                                  JOHN SHOULD NOT BUY HOUSE\n",
      "   57: JOHN *PREFER VISIT *GIVE2                                     JOHN DECIDE VISIT MARY\n",
      "   67: JOHN FUTURE *WHO BUY HOUSE                                    JOHN FUTURE NOT BUY HOUSE\n",
      "   71: JOHN WILL VISIT MARY                                          JOHN WILL VISIT MARY\n",
      "   74: *IX *VEGETABLE VISIT MARY                                     JOHN NOT VISIT MARY\n",
      "   77: *JOHN BLAME MARY                                              ANN BLAME MARY\n",
      "   84: *FIND *STUDENT *VISIT *VIDEOTAPE                              IX-1P FIND SOMETHING-ONE BOOK\n",
      "   89: *FUTURE *WILL GIVE *IX IX NEW *BOOK                           JOHN IX GIVE MAN IX NEW COAT\n",
      "   90: *SELF *GIVE1 IX SOMETHING-ONE WOMAN *ARRIVE                   JOHN GIVE IX SOMETHING-ONE WOMAN BOOK\n",
      "   92: JOHN *MAN *SOMETHING-ONE SOMETHING-ONE WOMAN BOOK             JOHN GIVE IX SOMETHING-ONE WOMAN BOOK\n",
      "  100: POSS NEW CAR BREAK-DOWN                                       POSS NEW CAR BREAK-DOWN\n",
      "  105: JOHN *VEGETABLE                                               JOHN LEG\n",
      "  107: JOHN POSS FRIEND *MARY CANDY                                  JOHN POSS FRIEND HAVE CANDY\n",
      "  108: *THINK *BOOK                                                  WOMAN ARRIVE\n",
      "  113: IX CAR *IX *TOY1 *BUY1                                        IX CAR BLUE SUE BUY\n",
      "  119: *PREFER *BUY1 IX *TOY *JANA                                   SUE BUY IX CAR BLUE\n",
      "  122: JOHN READ BOOK                                                JOHN READ BOOK\n",
      "  139: JOHN *BUY1 WHAT YESTERDAY BOOK                                JOHN BUY WHAT YESTERDAY BOOK\n",
      "  142: JOHN *STUDENT YESTERDAY WHAT BOOK                             JOHN BUY YESTERDAY WHAT BOOK\n",
      "  158: LOVE JOHN WHO                                                 LOVE JOHN WHO\n",
      "  167: JOHN *TOY1 *JANA LOVE MARY                                    JOHN IX SAY LOVE MARY\n",
      "  171: *MARY MARY BLAME                                              JOHN MARY BLAME\n",
      "  174: *LIVE GROUP GIVE1 *CORN TOY                                   PEOPLE GROUP GIVE1 JANA TOY\n",
      "  181: *SUE ARRIVE                                                   JOHN ARRIVE\n",
      "  184: ALL BOY *GIVE1 TEACHER *GIRL                                  ALL BOY GIVE TEACHER APPLE\n",
      "  189: *MARY *SELF *FUTURE1 *BUY1                                    JOHN GIVE GIRL BOX\n",
      "  193: JOHN *SELF *FUTURE1 BOX                                       JOHN GIVE GIRL BOX\n",
      "  199: *ANN CHOCOLATE WHO                                            LIKE CHOCOLATE WHO\n",
      "  201: JOHN *MARY *WOMAN *WOMAN BUY HOUSE                            JOHN TELL MARY IX-1P BUY HOUSE\n"
     ]
    }
   ],
   "source": [
    "# TODO Choose a feature set and model selector\n",
    "features = features_polar_norm\n",
    "model_selector = SelectorDIC\n",
    "\n",
    "# TODO Recognize the test set and display the result with the show_errors method\n",
    "models = train_all_words(features, model_selector)\n",
    "test_set = asl.build_test(features)\n",
    "prob, guesses = recognize(models, test_set)\n",
    "show_errors(guesses, test_set)"
   ]
  },
  {
   "cell_type": "markdown",
   "metadata": {
    "deletable": true,
    "editable": true
   },
   "source": [
    "**Question 3:**  Summarize the error results from three combinations of features and model selectors.  What was the \"best\" combination and why?  What additional information might we use to improve our WER?  For more insight on improving WER, take a look at the introduction to Part 4.\n",
    "\n",
    "**Answer 3:** The best combination is features_polar_norm with DIC giving a score. The model was ran aganist features_polar without normalization and the WER was higher. It should be noted that this combination is the best so far; however better models can be produced with further research. The basic way to improve the model is to have more data. A more complex approch would be to add more features and mix and match the current features. "
   ]
  },
  {
   "cell_type": "markdown",
   "metadata": {
    "deletable": true,
    "editable": true
   },
   "source": [
    "<a id='part3_test'></a>\n",
    "### Recognizer Unit Tests\n",
    "Run the following unit tests as a sanity check on the defined recognizer.  The test simply looks for some valid values but is not exhaustive. However, the project should not be submitted if these tests don't pass."
   ]
  },
  {
   "cell_type": "code",
   "execution_count": 36,
   "metadata": {
    "collapsed": false,
    "deletable": true,
    "editable": true
   },
   "outputs": [
    {
     "name": "stderr",
     "output_type": "stream",
     "text": [
      "..\n",
      "----------------------------------------------------------------------\n",
      "Ran 2 tests in 26.362s\n",
      "\n",
      "OK\n"
     ]
    },
    {
     "data": {
      "text/plain": [
       "<unittest.runner.TextTestResult run=2 errors=0 failures=0>"
      ]
     },
     "execution_count": 36,
     "metadata": {},
     "output_type": "execute_result"
    }
   ],
   "source": [
    "from asl_test_recognizer import TestRecognize\n",
    "suite = unittest.TestLoader().loadTestsFromModule(TestRecognize())\n",
    "unittest.TextTestRunner().run(suite)"
   ]
  },
  {
   "cell_type": "markdown",
   "metadata": {
    "deletable": true,
    "editable": true
   },
   "source": [
    "<a id='part4_info'></a>\n",
    "## PART 4: (OPTIONAL)  Improve the WER with Language Models\n",
    "We've squeezed just about as much as we can out of the model and still only get about 50% of the words right! Surely we can do better than that.  Probability to the rescue again in the form of [statistical language models (SLM)](https://en.wikipedia.org/wiki/Language_model).  The basic idea is that each word has some probability of occurrence within the set, and some probability that it is adjacent to specific other words. We can use that additional information to make better choices.\n",
    "\n",
    "##### Additional reading and resources\n",
    "- [Introduction to N-grams (Stanford Jurafsky slides)](https://web.stanford.edu/class/cs124/lec/languagemodeling.pdf)\n",
    "- [Speech Recognition Techniques for a Sign Language Recognition System, Philippe Dreuw et al](https://www-i6.informatik.rwth-aachen.de/publications/download/154/Dreuw--2007.pdf) see the improved results of applying LM on *this* data!\n",
    "- [SLM data for *this* ASL dataset](ftp://wasserstoff.informatik.rwth-aachen.de/pub/rwth-boston-104/lm/)\n",
    "\n",
    "##### Optional challenge\n",
    "The recognizer you implemented in Part 3 is equivalent to a \"0-gram\" SLM.  Improve the WER with the SLM data provided with the data set in the link above using \"1-gram\", \"2-gram\", and/or \"3-gram\" statistics. The `probabilities` data you've already calculated will be useful and can be turned into a pandas DataFrame if desired (see next cell).  \n",
    "Good luck!  Share your results with the class!"
   ]
  },
  {
   "cell_type": "code",
   "execution_count": 37,
   "metadata": {
    "collapsed": false,
    "deletable": true,
    "editable": true
   },
   "outputs": [
    {
     "data": {
      "text/html": [
       "<div>\n",
       "<table border=\"1\" class=\"dataframe\">\n",
       "  <thead>\n",
       "    <tr style=\"text-align: right;\">\n",
       "      <th></th>\n",
       "      <th>ALL</th>\n",
       "      <th>ANN</th>\n",
       "      <th>APPLE</th>\n",
       "      <th>ARRIVE</th>\n",
       "      <th>BILL</th>\n",
       "      <th>BLAME</th>\n",
       "      <th>BLUE</th>\n",
       "      <th>BOOK</th>\n",
       "      <th>BORROW</th>\n",
       "      <th>BOX</th>\n",
       "      <th>...</th>\n",
       "      <th>VIDEOTAPE</th>\n",
       "      <th>VISIT</th>\n",
       "      <th>WANT</th>\n",
       "      <th>WHAT</th>\n",
       "      <th>WHO</th>\n",
       "      <th>WILL</th>\n",
       "      <th>WOMAN</th>\n",
       "      <th>WONT</th>\n",
       "      <th>WRITE</th>\n",
       "      <th>YESTERDAY</th>\n",
       "    </tr>\n",
       "  </thead>\n",
       "  <tbody>\n",
       "    <tr>\n",
       "      <th>0</th>\n",
       "      <td>-427.265216</td>\n",
       "      <td>60.855960</td>\n",
       "      <td>-60.043712</td>\n",
       "      <td>28.328428</td>\n",
       "      <td>-69.737264</td>\n",
       "      <td>16.227199</td>\n",
       "      <td>-114.647372</td>\n",
       "      <td>-435.534046</td>\n",
       "      <td>-48.139049</td>\n",
       "      <td>-88.536813</td>\n",
       "      <td>...</td>\n",
       "      <td>-113.423580</td>\n",
       "      <td>47.356802</td>\n",
       "      <td>-52.544239</td>\n",
       "      <td>-84.891030</td>\n",
       "      <td>42.251060</td>\n",
       "      <td>-14.282839</td>\n",
       "      <td>-97.735102</td>\n",
       "      <td>-5.741563</td>\n",
       "      <td>49.629823</td>\n",
       "      <td>14.268172</td>\n",
       "    </tr>\n",
       "    <tr>\n",
       "      <th>1</th>\n",
       "      <td>-1451.400952</td>\n",
       "      <td>-784.061017</td>\n",
       "      <td>-1506.385696</td>\n",
       "      <td>64.552455</td>\n",
       "      <td>-948.554305</td>\n",
       "      <td>48.069869</td>\n",
       "      <td>-203.712097</td>\n",
       "      <td>75.791853</td>\n",
       "      <td>3.404890</td>\n",
       "      <td>-209.781529</td>\n",
       "      <td>...</td>\n",
       "      <td>76.687187</td>\n",
       "      <td>-41.865239</td>\n",
       "      <td>-2.904167</td>\n",
       "      <td>-176.480224</td>\n",
       "      <td>43.212471</td>\n",
       "      <td>-659.048391</td>\n",
       "      <td>-98.516992</td>\n",
       "      <td>-27.738499</td>\n",
       "      <td>119.111617</td>\n",
       "      <td>-73.288603</td>\n",
       "    </tr>\n",
       "    <tr>\n",
       "      <th>2</th>\n",
       "      <td>-2029.335173</td>\n",
       "      <td>-830.003079</td>\n",
       "      <td>-2529.133980</td>\n",
       "      <td>65.911074</td>\n",
       "      <td>-1125.386327</td>\n",
       "      <td>43.293152</td>\n",
       "      <td>-363.298001</td>\n",
       "      <td>-269.928020</td>\n",
       "      <td>32.561309</td>\n",
       "      <td>-312.817902</td>\n",
       "      <td>...</td>\n",
       "      <td>59.009194</td>\n",
       "      <td>-77.605354</td>\n",
       "      <td>26.154792</td>\n",
       "      <td>-357.469372</td>\n",
       "      <td>7.143990</td>\n",
       "      <td>-795.821064</td>\n",
       "      <td>-253.483665</td>\n",
       "      <td>-26.765867</td>\n",
       "      <td>103.561675</td>\n",
       "      <td>-142.277869</td>\n",
       "    </tr>\n",
       "    <tr>\n",
       "      <th>3</th>\n",
       "      <td>42.056279</td>\n",
       "      <td>-533.465917</td>\n",
       "      <td>-57.359094</td>\n",
       "      <td>-76.492025</td>\n",
       "      <td>108.963639</td>\n",
       "      <td>13.504245</td>\n",
       "      <td>71.954243</td>\n",
       "      <td>-474.436290</td>\n",
       "      <td>-298.907664</td>\n",
       "      <td>-207.396896</td>\n",
       "      <td>...</td>\n",
       "      <td>-448.975100</td>\n",
       "      <td>108.899494</td>\n",
       "      <td>-864.636751</td>\n",
       "      <td>79.034342</td>\n",
       "      <td>-115.511567</td>\n",
       "      <td>-108.640502</td>\n",
       "      <td>115.010009</td>\n",
       "      <td>127.169647</td>\n",
       "      <td>-410.780196</td>\n",
       "      <td>-141.008807</td>\n",
       "    </tr>\n",
       "    <tr>\n",
       "      <th>4</th>\n",
       "      <td>-286.086492</td>\n",
       "      <td>-130.514594</td>\n",
       "      <td>-313.884255</td>\n",
       "      <td>14.231529</td>\n",
       "      <td>-219.247597</td>\n",
       "      <td>22.083343</td>\n",
       "      <td>11.183612</td>\n",
       "      <td>-5.671661</td>\n",
       "      <td>22.230790</td>\n",
       "      <td>31.330757</td>\n",
       "      <td>...</td>\n",
       "      <td>-21.512775</td>\n",
       "      <td>25.590866</td>\n",
       "      <td>-20.312437</td>\n",
       "      <td>26.575994</td>\n",
       "      <td>-127.163319</td>\n",
       "      <td>-149.509867</td>\n",
       "      <td>-21.426340</td>\n",
       "      <td>-92.455810</td>\n",
       "      <td>-64.649195</td>\n",
       "      <td>-38.127245</td>\n",
       "    </tr>\n",
       "  </tbody>\n",
       "</table>\n",
       "<p>5 rows × 112 columns</p>\n",
       "</div>"
      ],
      "text/plain": [
       "           ALL         ANN        APPLE     ARRIVE         BILL      BLAME  \\\n",
       "0  -427.265216   60.855960   -60.043712  28.328428   -69.737264  16.227199   \n",
       "1 -1451.400952 -784.061017 -1506.385696  64.552455  -948.554305  48.069869   \n",
       "2 -2029.335173 -830.003079 -2529.133980  65.911074 -1125.386327  43.293152   \n",
       "3    42.056279 -533.465917   -57.359094 -76.492025   108.963639  13.504245   \n",
       "4  -286.086492 -130.514594  -313.884255  14.231529  -219.247597  22.083343   \n",
       "\n",
       "         BLUE        BOOK      BORROW         BOX     ...       VIDEOTAPE  \\\n",
       "0 -114.647372 -435.534046  -48.139049  -88.536813     ...     -113.423580   \n",
       "1 -203.712097   75.791853    3.404890 -209.781529     ...       76.687187   \n",
       "2 -363.298001 -269.928020   32.561309 -312.817902     ...       59.009194   \n",
       "3   71.954243 -474.436290 -298.907664 -207.396896     ...     -448.975100   \n",
       "4   11.183612   -5.671661   22.230790   31.330757     ...      -21.512775   \n",
       "\n",
       "        VISIT        WANT        WHAT         WHO        WILL       WOMAN  \\\n",
       "0   47.356802  -52.544239  -84.891030   42.251060  -14.282839  -97.735102   \n",
       "1  -41.865239   -2.904167 -176.480224   43.212471 -659.048391  -98.516992   \n",
       "2  -77.605354   26.154792 -357.469372    7.143990 -795.821064 -253.483665   \n",
       "3  108.899494 -864.636751   79.034342 -115.511567 -108.640502  115.010009   \n",
       "4   25.590866  -20.312437   26.575994 -127.163319 -149.509867  -21.426340   \n",
       "\n",
       "         WONT       WRITE   YESTERDAY  \n",
       "0   -5.741563   49.629823   14.268172  \n",
       "1  -27.738499  119.111617  -73.288603  \n",
       "2  -26.765867  103.561675 -142.277869  \n",
       "3  127.169647 -410.780196 -141.008807  \n",
       "4  -92.455810  -64.649195  -38.127245  \n",
       "\n",
       "[5 rows x 112 columns]"
      ]
     },
     "execution_count": 37,
     "metadata": {},
     "output_type": "execute_result"
    }
   ],
   "source": [
    "# create a DataFrame of log likelihoods for the test word items\n",
    "df_probs = pd.DataFrame(data=probabilities)\n",
    "df_probs.head()"
   ]
  }
 ],
 "metadata": {
  "anaconda-cloud": {},
  "kernelspec": {
   "display_name": "Python 3",
   "language": "python",
   "name": "python3"
  },
  "language_info": {
   "codemirror_mode": {
    "name": "ipython",
    "version": 3
   },
   "file_extension": ".py",
   "mimetype": "text/x-python",
   "name": "python",
   "nbconvert_exporter": "python",
   "pygments_lexer": "ipython3",
   "version": "3.6.0"
  },
  "nbpresent": {
   "slides": {
    "0a2d4faf-9fb8-4cee-853b-ed68b90f3f8a": {
     "id": "0a2d4faf-9fb8-4cee-853b-ed68b90f3f8a",
     "prev": null,
     "regions": {
      "3fb9ce83-fbb2-4995-832a-f8f400734ad3": {
       "attrs": {
        "height": 0.8,
        "width": 0.8,
        "x": 0.1,
        "y": 0.1
       },
       "content": {
        "cell": "1dbb9346-179b-4835-b430-6369d88f1a1b",
        "part": "whole"
       },
       "id": "3fb9ce83-fbb2-4995-832a-f8f400734ad3"
      }
     }
    },
    "1519a4fa-1588-4644-98de-9c43bf0aceb5": {
     "id": "1519a4fa-1588-4644-98de-9c43bf0aceb5",
     "prev": "8a712017-49b7-449f-8264-43a032ace902",
     "regions": {
      "29546121-ed11-44b7-8144-0c44e874098f": {
       "attrs": {
        "height": 0.8,
        "width": 0.8,
        "x": 0.1,
        "y": 0.1
       },
       "content": {
        "cell": "365590a4-6963-4812-a1cf-688f7b6bb9ff",
        "part": "whole"
       },
       "id": "29546121-ed11-44b7-8144-0c44e874098f"
      }
     }
    },
    "176eaccb-15dd-455d-bf07-504213e7aa01": {
     "id": "176eaccb-15dd-455d-bf07-504213e7aa01",
     "prev": "de6b30f4-2463-4901-92ed-aabad78e5e0f",
     "regions": {
      "1542aa9e-dc55-4b90-adef-bf5181872b42": {
       "attrs": {
        "height": 0.8,
        "width": 0.8,
        "x": 0.1,
        "y": 0.1
       },
       "content": {
        "cell": "5c242050-c1f7-4b3b-8103-2ea9d71a40dc",
        "part": "whole"
       },
       "id": "1542aa9e-dc55-4b90-adef-bf5181872b42"
      }
     }
    },
    "19091b36-b0e7-49b1-b501-ec05937e0da9": {
     "id": "19091b36-b0e7-49b1-b501-ec05937e0da9",
     "prev": "1983c02e-fb99-4c05-a728-e0c0ad7c06d8",
     "regions": {
      "6529a31c-8d45-425c-b1d7-d0ac6fca6a32": {
       "attrs": {
        "height": 0.8,
        "width": 0.8,
        "x": 0.1,
        "y": 0.1
       },
       "content": {
        "cell": "e766909d-9421-4aaf-9fb1-bc90d27e49e3",
        "part": "whole"
       },
       "id": "6529a31c-8d45-425c-b1d7-d0ac6fca6a32"
      }
     }
    },
    "1983c02e-fb99-4c05-a728-e0c0ad7c06d8": {
     "id": "1983c02e-fb99-4c05-a728-e0c0ad7c06d8",
     "prev": "176eaccb-15dd-455d-bf07-504213e7aa01",
     "regions": {
      "1c4e605d-7f22-4f30-b3fb-74b2937e7a4a": {
       "attrs": {
        "height": 0.8,
        "width": 0.8,
        "x": 0.1,
        "y": 0.1
       },
       "content": {
        "cell": "4d217204-e5c0-4568-bd30-12c2e41b681d",
        "part": "whole"
       },
       "id": "1c4e605d-7f22-4f30-b3fb-74b2937e7a4a"
      }
     }
    },
    "212b111f-4527-459c-8297-1db5580ee5c9": {
     "id": "212b111f-4527-459c-8297-1db5580ee5c9",
     "prev": "76898529-e49e-4663-8d02-8261dfe1d94b",
     "regions": {
      "2e4bd280-3cd6-47d0-9c81-17737b24053b": {
       "attrs": {
        "height": 0.8,
        "width": 0.8,
        "x": 0.1,
        "y": 0.1
       },
       "content": {
        "cell": "0c316996-9933-4b3d-82ec-259518dc8bc9",
        "part": "whole"
       },
       "id": "2e4bd280-3cd6-47d0-9c81-17737b24053b"
      }
     }
    },
    "23a7337f-a0cf-4ed4-baa9-ec06bfdc0579": {
     "id": "23a7337f-a0cf-4ed4-baa9-ec06bfdc0579",
     "prev": "e76e9a02-54c1-4ec9-80fb-c611ed398122",
     "regions": {
      "b5721d20-d6f8-4ddb-a5aa-eb16f0cc8893": {
       "attrs": {
        "height": 0.8,
        "width": 0.8,
        "x": 0.1,
        "y": 0.1
       },
       "content": {
        "cell": "313015a2-b5a9-4136-a8ea-5d011e47d840",
        "part": "whole"
       },
       "id": "b5721d20-d6f8-4ddb-a5aa-eb16f0cc8893"
      }
     }
    },
    "732f1952-ee54-46fb-8067-099512824296": {
     "id": "732f1952-ee54-46fb-8067-099512824296",
     "prev": "0a2d4faf-9fb8-4cee-853b-ed68b90f3f8a",
     "regions": {
      "f31d4597-08ad-4c46-ad52-4bd2d775c624": {
       "attrs": {
        "height": 0.8,
        "width": 0.8,
        "x": 0.1,
        "y": 0.1
       },
       "content": {
        "cell": "aadfec52-27ca-4541-8920-fa9253d51827",
        "part": "whole"
       },
       "id": "f31d4597-08ad-4c46-ad52-4bd2d775c624"
      }
     }
    },
    "76898529-e49e-4663-8d02-8261dfe1d94b": {
     "id": "76898529-e49e-4663-8d02-8261dfe1d94b",
     "prev": "19091b36-b0e7-49b1-b501-ec05937e0da9",
     "regions": {
      "ec1746fc-aec9-4a7c-8225-9e9ac8d45889": {
       "attrs": {
        "height": 0.8,
        "width": 0.8,
        "x": 0.1,
        "y": 0.1
       },
       "content": {
        "cell": "b3e539be-84e2-49ce-a183-31cfc5c7ce7c",
        "part": "whole"
       },
       "id": "ec1746fc-aec9-4a7c-8225-9e9ac8d45889"
      }
     }
    },
    "8a712017-49b7-449f-8264-43a032ace902": {
     "id": "8a712017-49b7-449f-8264-43a032ace902",
     "prev": "bed9e696-630e-4747-be1c-bc3737ba992f",
     "regions": {
      "1faab517-cd16-4c63-bb01-a67246749d7a": {
       "attrs": {
        "height": 0.8,
        "width": 0.8,
        "x": 0.1,
        "y": 0.1
       },
       "content": {
        "cell": "3f14ddf0-4145-4687-9c33-712c3c32520f",
        "part": "whole"
       },
       "id": "1faab517-cd16-4c63-bb01-a67246749d7a"
      }
     }
    },
    "90af992d-eb6d-4496-b2d2-6aa9a95b6a61": {
     "id": "90af992d-eb6d-4496-b2d2-6aa9a95b6a61",
     "prev": "732f1952-ee54-46fb-8067-099512824296",
     "regions": {
      "4f448bec-5be9-4553-88ae-e35ed7612f25": {
       "attrs": {
        "height": 0.8,
        "width": 0.8,
        "x": 0.1,
        "y": 0.1
       },
       "content": {
        "cell": "c445fbfb-b8ab-4e9a-8d13-12231a1c588f",
        "part": "whole"
       },
       "id": "4f448bec-5be9-4553-88ae-e35ed7612f25"
      }
     }
    },
    "bed9e696-630e-4747-be1c-bc3737ba992f": {
     "id": "bed9e696-630e-4747-be1c-bc3737ba992f",
     "prev": "23a7337f-a0cf-4ed4-baa9-ec06bfdc0579",
     "regions": {
      "ac1513f0-404f-492b-8b42-0313e9a753b0": {
       "attrs": {
        "height": 0.8,
        "width": 0.8,
        "x": 0.1,
        "y": 0.1
       },
       "content": {
        "cell": "18dd2eee-8b6c-4a5e-9539-132d00a7c7e1",
        "part": "whole"
       },
       "id": "ac1513f0-404f-492b-8b42-0313e9a753b0"
      }
     }
    },
    "de6b30f4-2463-4901-92ed-aabad78e5e0f": {
     "id": "de6b30f4-2463-4901-92ed-aabad78e5e0f",
     "prev": "e36b4639-be8c-46f7-a8c9-bcfb134f9fd0",
     "regions": {
      "55ec36e0-362f-4fd3-8060-7cee056039aa": {
       "attrs": {
        "height": 0.8,
        "width": 0.8,
        "x": 0.1,
        "y": 0.1
       },
       "content": {
        "cell": "c3cf461e-4c9e-4dec-99d2-07bfa79cbe23",
        "part": "whole"
       },
       "id": "55ec36e0-362f-4fd3-8060-7cee056039aa"
      }
     }
    },
    "e36b4639-be8c-46f7-a8c9-bcfb134f9fd0": {
     "id": "e36b4639-be8c-46f7-a8c9-bcfb134f9fd0",
     "prev": "1519a4fa-1588-4644-98de-9c43bf0aceb5",
     "regions": {
      "4c1e9714-9ba0-45fd-8a2f-ef80a5c85c2e": {
       "attrs": {
        "height": 0.8,
        "width": 0.8,
        "x": 0.1,
        "y": 0.1
       },
       "content": {
        "cell": "6534d4dc-125f-47e6-a022-cf1e0d277174",
        "part": "whole"
       },
       "id": "4c1e9714-9ba0-45fd-8a2f-ef80a5c85c2e"
      }
     }
    },
    "e76e9a02-54c1-4ec9-80fb-c611ed398122": {
     "id": "e76e9a02-54c1-4ec9-80fb-c611ed398122",
     "prev": "90af992d-eb6d-4496-b2d2-6aa9a95b6a61",
     "regions": {
      "9491b84d-193b-40ff-9321-d21eb1ba88d4": {
       "attrs": {
        "height": 0.8,
        "width": 0.8,
        "x": 0.1,
        "y": 0.1
       },
       "content": {
        "cell": "b64ec10e-fa9d-4f3f-907f-6799611ed6b1",
        "part": "whole"
       },
       "id": "9491b84d-193b-40ff-9321-d21eb1ba88d4"
      }
     }
    }
   },
   "themes": {}
  }
 },
 "nbformat": 4,
 "nbformat_minor": 0
}
